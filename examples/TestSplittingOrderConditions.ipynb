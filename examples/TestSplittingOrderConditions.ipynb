{
 "cells": [
  {
   "cell_type": "code",
   "execution_count": 1,
   "metadata": {
    "collapsed": false
   },
   "outputs": [
    {
     "name": "stderr",
     "output_type": "stream",
     "text": [
      "WARNING: Method definition combinations(Any, Integer) in module Base at combinatorics.jl:182 overwritten in module Combinatorics at /opt/julia_packages/.julia/v0.4/Combinatorics/src/combinations.jl:42.\n",
      "WARNING: Method definition permutations(Any) in module Base at combinatorics.jl:219 overwritten in module Combinatorics at /opt/julia_packages/.julia/v0.4/Combinatorics/src/permutations.jl:24.\n",
      "WARNING: Method definition parity(AbstractArray{#T<:Integer, 1}) in module Base at combinatorics.jl:642 overwritten in module Combinatorics at /opt/julia_packages/.julia/v0.4/Combinatorics/src/permutations.jl:221.\n",
      "WARNING: Method definition nthperm!(AbstractArray{T<:Any, 1}, Integer) in module Base at combinatorics.jl:70 overwritten in module Combinatorics at /opt/julia_packages/.julia/v0.4/Combinatorics/src/permutations.jl:136.\n",
      "WARNING: Method definition nthperm(AbstractArray{#T<:Integer, 1}) in module Base at combinatorics.jl:92 overwritten in module Combinatorics at /opt/julia_packages/.julia/v0.4/Combinatorics/src/permutations.jl:161.\n",
      "WARNING: Method definition nthperm(AbstractArray{T<:Any, 1}, Integer) in module Base at combinatorics.jl:89 overwritten in module Combinatorics at /opt/julia_packages/.julia/v0.4/Combinatorics/src/permutations.jl:157.\n",
      "WARNING: Method definition levicivita(AbstractArray{#T<:Integer, 1}) in module Base at combinatorics.jl:611 overwritten in module Combinatorics at /opt/julia_packages/.julia/v0.4/Combinatorics/src/permutations.jl:188.\n",
      "WARNING: Method definition prevprod(Array{Int64, 1}, Any) in module Base at combinatorics.jl:565 overwritten in module Combinatorics at /opt/julia_packages/.julia/v0.4/Combinatorics/src/partitions.jl:354.\n",
      "WARNING: Method definition factorial(#T<:Integer, #T<:Integer) in module Base at combinatorics.jl:56 overwritten in module Combinatorics at /opt/julia_packages/.julia/v0.4/Combinatorics/src/factorials.jl:18.\n",
      "WARNING: Method definition factorial(Integer, Integer) in module Base at combinatorics.jl:66 overwritten in module Combinatorics at /opt/julia_packages/.julia/v0.4/Combinatorics/src/factorials.jl:28.\n",
      "WARNING: Method definition partitions(Integer) in module Base at combinatorics.jl:252 overwritten in module Combinatorics at /opt/julia_packages/.julia/v0.4/Combinatorics/src/partitions.jl:26.\n",
      "WARNING: Method definition partitions(Integer, Integer) in module Base at combinatorics.jl:318 overwritten in module Combinatorics at /opt/julia_packages/.julia/v0.4/Combinatorics/src/partitions.jl:93.\n",
      "WARNING: Method definition partitions(AbstractArray{T<:Any, 1}) in module Base at combinatorics.jl:380 overwritten in module Combinatorics at /opt/julia_packages/.julia/v0.4/Combinatorics/src/partitions.jl:158.\n",
      "WARNING: Method definition partitions(AbstractArray{T<:Any, 1}, Int64) in module Base at combinatorics.jl:447 overwritten in module Combinatorics at /opt/julia_packages/.julia/v0.4/Combinatorics/src/partitions.jl:228.\n"
     ]
    }
   ],
   "source": [
    "using SplittingOrderConditions"
   ]
  },
  {
   "cell_type": "code",
   "execution_count": 2,
   "metadata": {
    "collapsed": false
   },
   "outputs": [
    {
     "data": {
      "text/plain": [
       "8-element Array{Any,1}:\n",
       " [0]      \n",
       " [0,0,0,1]\n",
       " [0,0,1]  \n",
       " [0,0,1,1]\n",
       " [0,1]    \n",
       " [0,1,1]  \n",
       " [0,1,1,1]\n",
       " [1]      "
      ]
     },
     "execution_count": 2,
     "metadata": {},
     "output_type": "execute_result"
    }
   ],
   "source": [
    "collect(Lyndon(2,4))"
   ]
  },
  {
   "cell_type": "code",
   "execution_count": 3,
   "metadata": {
    "collapsed": false
   },
   "outputs": [
    {
     "data": {
      "text/plain": [
       "12-element Array{Any,1}:\n",
       " [0,0,0,0]\n",
       " [1,0,0,0]\n",
       " [2,0,0,0]\n",
       " [2,1,0,0]\n",
       " [2,2,0,0]\n",
       " [2,3,0,0]\n",
       " [2,3,1,0]\n",
       " [2,3,2,0]\n",
       " [2,3,2,1]\n",
       " [2,3,2,2]\n",
       " [2,3,2,3]\n",
       " [2,3,2,4]"
      ]
     },
     "execution_count": 3,
     "metadata": {},
     "output_type": "execute_result"
    }
   ],
   "source": [
    "collect(MultiFor(Int[2,3,2,4]))"
   ]
  },
  {
   "cell_type": "code",
   "execution_count": 4,
   "metadata": {
    "collapsed": false
   },
   "outputs": [
    {
     "data": {
      "text/plain": [
       "Dict{Array{Int64,1},AbstractString} with 3 entries:\n",
       "  [0,1,1,1] => \"+4*b[1]^3*a[2]+4*b[1]^3*a[3]+4*b[1]^3*a[4]+12*b[1]^2*b[2]*a[3]+…\n",
       "  [0,0,0,1] => \"+4*b[1]*a[2]^3+12*b[1]*a[2]^2*a[3]+12*b[1]*a[2]^2*a[4]+12*b[1]*…\n",
       "  [0,0,1,1] => \"+6*b[1]^2*a[2]^2+12*b[1]^2*a[2]*a[3]+12*b[1]^2*a[2]*a[4]+6*b[1]…"
      ]
     },
     "execution_count": 4,
     "metadata": {},
     "output_type": "execute_result"
    }
   ],
   "source": [
    "eq = generate_equations(4,4)"
   ]
  },
  {
   "cell_type": "code",
   "execution_count": 5,
   "metadata": {
    "collapsed": false
   },
   "outputs": [
    {
     "data": {
      "text/plain": [
       "\"+4*b[1]*a[2]^3+12*b[1]*a[2]^2*a[3]+12*b[1]*a[2]^2*a[4]+12*b[1]*a[2]*a[3]^2+24*b[1]*a[2]*a[3]*a[4]+12*b[1]*a[2]*a[4]^2+4*b[1]*a[3]^3+12*b[1]*a[3]^2*a[4]+12*b[1]*a[3]*a[4]^2+4*b[1]*a[4]^3+4*b[2]*a[3]^3+12*b[2]*a[3]^2*a[4]+12*b[2]*a[3]*a[4]^2+4*b[2]*a[4]^3+4*b[3]*a[4]^3-1=0\""
      ]
     },
     "execution_count": 5,
     "metadata": {},
     "output_type": "execute_result"
    }
   ],
   "source": [
    "eq[[0,0,0,1]]"
   ]
  },
  {
   "cell_type": "code",
   "execution_count": 6,
   "metadata": {
    "collapsed": false
   },
   "outputs": [
    {
     "data": {
      "text/plain": [
       "\"+6*b[1]^2*a[2]^2+12*b[1]^2*a[2]*a[3]+12*b[1]^2*a[2]*a[4]+6*b[1]^2*a[3]^2+12*b[1]^2*a[3]*a[4]+6*b[1]^2*a[4]^2+12*b[1]*b[2]*a[3]^2+24*b[1]*b[2]*a[3]*a[4]+12*b[1]*b[2]*a[4]^2+12*b[1]*b[3]*a[4]^2+6*b[2]^2*a[3]^2+12*b[2]^2*a[3]*a[4]+6*b[2]^2*a[4]^2+12*b[2]*b[3]*a[4]^2+6*b[3]^2*a[4]^2-1=0\""
      ]
     },
     "execution_count": 6,
     "metadata": {},
     "output_type": "execute_result"
    }
   ],
   "source": [
    "eq[[0,0,1,1]]"
   ]
  },
  {
   "cell_type": "code",
   "execution_count": 7,
   "metadata": {
    "collapsed": false
   },
   "outputs": [
    {
     "data": {
      "text/plain": [
       "\"+4*b[1]^3*a[2]+4*b[1]^3*a[3]+4*b[1]^3*a[4]+12*b[1]^2*b[2]*a[3]+12*b[1]^2*b[2]*a[4]+12*b[1]^2*b[3]*a[4]+12*b[1]*b[2]^2*a[3]+12*b[1]*b[2]^2*a[4]+24*b[1]*b[2]*b[3]*a[4]+12*b[1]*b[3]^2*a[4]+4*b[2]^3*a[3]+4*b[2]^3*a[4]+12*b[2]^2*b[3]*a[4]+12*b[2]*b[3]^2*a[4]+4*b[3]^3*a[4]-1=0\""
      ]
     },
     "execution_count": 7,
     "metadata": {},
     "output_type": "execute_result"
    }
   ],
   "source": [
    "eq[[0,1,1,1]]"
   ]
  },
  {
   "cell_type": "code",
   "execution_count": 8,
   "metadata": {
    "collapsed": false
   },
   "outputs": [
    {
     "name": "stdout",
     "output_type": "stream",
     "text": [
      "  0.311550 seconds (1.80 M allocations: 753.755 MB, 17.36% gc time)\n"
     ]
    },
    {
     "data": {
      "text/plain": [
       "Dict{Array{Int64,1},AbstractString} with 9 entries:\n",
       "  [0,0,0,1,0,1] => \"+120*b[1]*a[2]*b[2]*a[3]^3+360*b[1]*a[2]*b[2]*a[3]^2*a[4]+3…\n",
       "  [0,0,0,0,0,1] => \"+6*b[1]*a[2]^5+30*b[1]*a[2]^4*a[3]+30*b[1]*a[2]^4*a[4]+30*b…\n",
       "  [0,0,0,0,1,1] => \"+15*b[1]^2*a[2]^4+60*b[1]^2*a[2]^3*a[3]+60*b[1]^2*a[2]^3*a[…\n",
       "  [0,0,1,0,1,1] => \"+180*b[1]^2*a[2]*b[2]*a[3]^2+360*b[1]^2*a[2]*b[2]*a[3]*a[4]…\n",
       "  [0,1,0,1,1,1] => \"+120*b[1]^3*a[2]*b[2]*a[3]+120*b[1]^3*a[2]*b[2]*a[4]+120*b[…\n",
       "  [0,0,0,1,1,1] => \"+20*b[1]^3*a[2]^3+60*b[1]^3*a[2]^2*a[3]+60*b[1]^3*a[2]^2*a[…\n",
       "  [0,1,1,1,1,1] => \"+6*b[1]^5*a[2]+6*b[1]^5*a[3]+6*b[1]^5*a[4]+6*b[1]^5*a[5]+6*…\n",
       "  [0,0,1,1,0,1] => \"+180*b[1]*a[2]*b[2]^2*a[3]^2+360*b[1]*a[2]*b[2]^2*a[3]*a[4]…\n",
       "  [0,0,1,1,1,1] => \"+15*b[1]^4*a[2]^2+30*b[1]^4*a[2]*a[3]+30*b[1]^4*a[2]*a[4]+3…"
      ]
     },
     "execution_count": 8,
     "metadata": {},
     "output_type": "execute_result"
    }
   ],
   "source": [
    "@time eq = generate_equations(6,10)"
   ]
  },
  {
   "cell_type": "code",
   "execution_count": null,
   "metadata": {
    "collapsed": true
   },
   "outputs": [],
   "source": []
  }
 ],
 "metadata": {
  "kernelspec": {
   "display_name": "Julia 0.4.6",
   "language": "julia",
   "name": "julia-0.4"
  },
  "language_info": {
   "file_extension": ".jl",
   "mimetype": "application/julia",
   "name": "julia",
   "version": "0.4.6"
  }
 },
 "nbformat": 4,
 "nbformat_minor": 0
}
