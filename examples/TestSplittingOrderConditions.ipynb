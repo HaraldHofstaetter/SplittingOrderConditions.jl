{
 "cells": [
  {
   "cell_type": "markdown",
   "metadata": {},
   "source": [
    "#Setup of Order Conditions for Splitting Methods\n",
    "\n",
    "\n",
    "##Initialize Julia package"
   ]
  },
  {
   "cell_type": "code",
   "execution_count": 1,
   "metadata": {
    "collapsed": false
   },
   "outputs": [
    {
     "name": "stderr",
     "output_type": "stream",
     "text": [
      "WARNING: Method definition combinations(Any, Integer) in module Base at combinatorics.jl:182 overwritten in module Combinatorics at /opt/julia_packages/.julia/v0.4/Combinatorics/src/combinations.jl:42.\n",
      "WARNING: Method definition permutations(Any) in module Base at combinatorics.jl:219 overwritten in module Combinatorics at /opt/julia_packages/.julia/v0.4/Combinatorics/src/permutations.jl:24.\n",
      "WARNING: Method definition parity(AbstractArray{#T<:Integer, 1}) in module Base at combinatorics.jl:642 overwritten in module Combinatorics at /opt/julia_packages/.julia/v0.4/Combinatorics/src/permutations.jl:221.\n",
      "WARNING: Method definition nthperm!(AbstractArray{T<:Any, 1}, Integer) in module Base at combinatorics.jl:70 overwritten in module Combinatorics at /opt/julia_packages/.julia/v0.4/Combinatorics/src/permutations.jl:136.\n",
      "WARNING: Method definition nthperm(AbstractArray{#T<:Integer, 1}) in module Base at combinatorics.jl:92 overwritten in module Combinatorics at /opt/julia_packages/.julia/v0.4/Combinatorics/src/permutations.jl:161.\n",
      "WARNING: Method definition nthperm(AbstractArray{T<:Any, 1}, Integer) in module Base at combinatorics.jl:89 overwritten in module Combinatorics at /opt/julia_packages/.julia/v0.4/Combinatorics/src/permutations.jl:157.\n",
      "WARNING: Method definition levicivita(AbstractArray{#T<:Integer, 1}) in module Base at combinatorics.jl:611 overwritten in module Combinatorics at /opt/julia_packages/.julia/v0.4/Combinatorics/src/permutations.jl:188.\n",
      "WARNING: Method definition prevprod(Array{Int64, 1}, Any) in module Base at combinatorics.jl:565 overwritten in module Combinatorics at /opt/julia_packages/.julia/v0.4/Combinatorics/src/partitions.jl:354.\n",
      "WARNING: Method definition factorial(#T<:Integer, #T<:Integer) in module Base at combinatorics.jl:56 overwritten in module Combinatorics at /opt/julia_packages/.julia/v0.4/Combinatorics/src/factorials.jl:18.\n",
      "WARNING: Method definition factorial(Integer, Integer) in module Base at combinatorics.jl:66 overwritten in module Combinatorics at /opt/julia_packages/.julia/v0.4/Combinatorics/src/factorials.jl:28.\n",
      "WARNING: Method definition partitions(Integer) in module Base at combinatorics.jl:252 overwritten in module Combinatorics at /opt/julia_packages/.julia/v0.4/Combinatorics/src/partitions.jl:26.\n",
      "WARNING: Method definition partitions(Integer, Integer) in module Base at combinatorics.jl:318 overwritten in module Combinatorics at /opt/julia_packages/.julia/v0.4/Combinatorics/src/partitions.jl:93.\n",
      "WARNING: Method definition partitions(AbstractArray{T<:Any, 1}) in module Base at combinatorics.jl:380 overwritten in module Combinatorics at /opt/julia_packages/.julia/v0.4/Combinatorics/src/partitions.jl:158.\n",
      "WARNING: Method definition partitions(AbstractArray{T<:Any, 1}, Int64) in module Base at combinatorics.jl:447 overwritten in module Combinatorics at /opt/julia_packages/.julia/v0.4/Combinatorics/src/partitions.jl:228.\n"
     ]
    }
   ],
   "source": [
    "using SplittingOrderConditions"
   ]
  },
  {
   "cell_type": "markdown",
   "metadata": {},
   "source": [
    "##Example from\n",
    ">###[W. Auzinger](http://www.asc.tuwien.ac.at/~winfried),[W. Herfort](http://www.asc.tuwien.ac.at/~herfort/),[H. Hofstätter](http://www.harald-hofstaetter.at),[O. Koch](http://othmar-koch.org), [Setup of Order Conditions for Splitting Methods](http://arxiv.org/pdf/1605.00445.pdf), to appear in [Proceedings of CASC 2016](http://www.casc.cs.uni-bonn.de/2016/).\n",
    "\n",
    "###Generate all equations for $p=4$, $s=4$"
   ]
  },
  {
   "cell_type": "code",
   "execution_count": 2,
   "metadata": {
    "collapsed": false
   },
   "outputs": [
    {
     "data": {
      "text/plain": [
       "Dict{Array{Int64,1},AbstractString} with 2 entries:\n",
       "  [0] => \"+1*a[1]+1*a[2]+1*a[3]+1*a[4]-1\"\n",
       "  [1] => \"+1*b[1]+1*b[2]+1*b[3]+1*b[4]-1\""
      ]
     },
     "execution_count": 2,
     "metadata": {},
     "output_type": "execute_result"
    }
   ],
   "source": [
    "eqs = generate_equations(1,4)"
   ]
  },
  {
   "cell_type": "code",
   "execution_count": 3,
   "metadata": {
    "collapsed": false
   },
   "outputs": [
    {
     "data": {
      "text/plain": [
       "Dict{Array{Int64,1},AbstractString} with 1 entry:\n",
       "  [0,1] => \"+2*b[1]*a[2]+2*b[1]*a[3]+2*b[1]*a[4]+2*b[2]*a[3]+2*b[2]*a[4]+2*b[3]…"
      ]
     },
     "execution_count": 3,
     "metadata": {},
     "output_type": "execute_result"
    }
   ],
   "source": [
    "eqs = generate_equations(2,4)"
   ]
  },
  {
   "cell_type": "code",
   "execution_count": 4,
   "metadata": {
    "collapsed": false
   },
   "outputs": [
    {
     "data": {
      "text/plain": [
       "Dict{Array{Int64,1},AbstractString} with 2 entries:\n",
       "  [0,0,1] => \"+3*b[1]*a[2]^2+6*b[1]*a[2]*a[3]+6*b[1]*a[2]*a[4]+3*b[1]*a[3]^2+6*…\n",
       "  [0,1,1] => \"+3*b[1]^2*a[2]+3*b[1]^2*a[3]+3*b[1]^2*a[4]+6*b[1]*b[2]*a[3]+6*b[1…"
      ]
     },
     "execution_count": 4,
     "metadata": {},
     "output_type": "execute_result"
    }
   ],
   "source": [
    "eqs = generate_equations(3,4)"
   ]
  },
  {
   "cell_type": "code",
   "execution_count": 5,
   "metadata": {
    "collapsed": false
   },
   "outputs": [
    {
     "data": {
      "text/plain": [
       "Dict{Array{Int64,1},AbstractString} with 3 entries:\n",
       "  [0,1,1,1] => \"+4*b[1]^3*a[2]+4*b[1]^3*a[3]+4*b[1]^3*a[4]+12*b[1]^2*b[2]*a[3]+…\n",
       "  [0,0,0,1] => \"+4*b[1]*a[2]^3+12*b[1]*a[2]^2*a[3]+12*b[1]*a[2]^2*a[4]+12*b[1]*…\n",
       "  [0,0,1,1] => \"+6*b[1]^2*a[2]^2+12*b[1]^2*a[2]*a[3]+12*b[1]^2*a[2]*a[4]+6*b[1]…"
      ]
     },
     "execution_count": 5,
     "metadata": {},
     "output_type": "execute_result"
    }
   ],
   "source": [
    "eqs = generate_equations(4,4)"
   ]
  },
  {
   "cell_type": "code",
   "execution_count": 6,
   "metadata": {
    "collapsed": false
   },
   "outputs": [
    {
     "data": {
      "text/plain": [
       "\"+4*b[1]*a[2]^3+12*b[1]*a[2]^2*a[3]+12*b[1]*a[2]^2*a[4]+12*b[1]*a[2]*a[3]^2+24*b[1]*a[2]*a[3]*a[4]+12*b[1]*a[2]*a[4]^2+4*b[1]*a[3]^3+12*b[1]*a[3]^2*a[4]+12*b[1]*a[3]*a[4]^2+4*b[1]*a[4]^3+4*b[2]*a[3]^3+12*b[2]*a[3]^2*a[4]+12*b[2]*a[3]*a[4]^2+4*b[2]*a[4]^3+4*b[3]*a[4]^3-1\""
      ]
     },
     "execution_count": 6,
     "metadata": {},
     "output_type": "execute_result"
    }
   ],
   "source": [
    "eqs[[0,0,0,1]]"
   ]
  },
  {
   "cell_type": "code",
   "execution_count": 7,
   "metadata": {
    "collapsed": false
   },
   "outputs": [
    {
     "data": {
      "text/plain": [
       "\"+6*b[1]^2*a[2]^2+12*b[1]^2*a[2]*a[3]+12*b[1]^2*a[2]*a[4]+6*b[1]^2*a[3]^2+12*b[1]^2*a[3]*a[4]+6*b[1]^2*a[4]^2+12*b[1]*b[2]*a[3]^2+24*b[1]*b[2]*a[3]*a[4]+12*b[1]*b[2]*a[4]^2+12*b[1]*b[3]*a[4]^2+6*b[2]^2*a[3]^2+12*b[2]^2*a[3]*a[4]+6*b[2]^2*a[4]^2+12*b[2]*b[3]*a[4]^2+6*b[3]^2*a[4]^2-1\""
      ]
     },
     "execution_count": 7,
     "metadata": {},
     "output_type": "execute_result"
    }
   ],
   "source": [
    "eqs[[0,0,1,1]]"
   ]
  },
  {
   "cell_type": "code",
   "execution_count": 8,
   "metadata": {
    "collapsed": false
   },
   "outputs": [
    {
     "data": {
      "text/plain": [
       "\"+4*b[1]^3*a[2]+4*b[1]^3*a[3]+4*b[1]^3*a[4]+12*b[1]^2*b[2]*a[3]+12*b[1]^2*b[2]*a[4]+12*b[1]^2*b[3]*a[4]+12*b[1]*b[2]^2*a[3]+12*b[1]*b[2]^2*a[4]+24*b[1]*b[2]*b[3]*a[4]+12*b[1]*b[3]^2*a[4]+4*b[2]^3*a[3]+4*b[2]^3*a[4]+12*b[2]^2*b[3]*a[4]+12*b[2]*b[3]^2*a[4]+4*b[3]^3*a[4]-1\""
      ]
     },
     "execution_count": 8,
     "metadata": {},
     "output_type": "execute_result"
    }
   ],
   "source": [
    "eqs[[0,1,1,1]]"
   ]
  },
  {
   "cell_type": "markdown",
   "metadata": {},
   "source": [
    "###Time the generation of all equations for $p=6$, $s=10$\n",
    "(to be compared with 478 seconds for the Maple implementation running on comparable hardware, see the paper cited above)"
   ]
  },
  {
   "cell_type": "code",
   "execution_count": 9,
   "metadata": {
    "collapsed": false
   },
   "outputs": [
    {
     "name": "stdout",
     "output_type": "stream",
     "text": [
      "  0.821374 seconds (7.63 M allocations: 1.339 GB, 15.60% gc time)\n"
     ]
    },
    {
     "data": {
      "text/plain": [
       "Dict{Array{Int64,1},AbstractString} with 23 entries:\n",
       "  [0,0,1]       => \"+3*b[1]*a[2]^2+6*b[1]*a[2]*a[3]+6*b[1]*a[2]*a[4]+6*b[1]*a[2…\n",
       "  [0,0,1,0,1,1] => \"+180*b[1]^2*a[2]*b[2]*a[3]^2+360*b[1]^2*a[2]*b[2]*a[3]*a[4]…\n",
       "  [1]           => \"+1*b[1]+1*b[2]+1*b[3]+1*b[4]+1*b[5]+1*b[6]+1*b[7]+1*b[8]+1*…\n",
       "  [0,1,0,1,1,1] => \"+120*b[1]^3*a[2]*b[2]*a[3]+120*b[1]^3*a[2]*b[2]*a[4]+120*b[…\n",
       "  [0,0,0,1,1,1] => \"+20*b[1]^3*a[2]^3+60*b[1]^3*a[2]^2*a[3]+60*b[1]^3*a[2]^2*a[…\n",
       "  [0,0,0,1]     => \"+4*b[1]*a[2]^3+12*b[1]*a[2]^2*a[3]+12*b[1]*a[2]^2*a[4]+12*b…\n",
       "  [0]           => \"+1*a[1]+1*a[2]+1*a[3]+1*a[4]+1*a[5]+1*a[6]+1*a[7]+1*a[8]+1*…\n",
       "  [0,0,0,1,0,1] => \"+120*b[1]*a[2]*b[2]*a[3]^3+360*b[1]*a[2]*b[2]*a[3]^2*a[4]+3…\n",
       "  [0,0,0,0,1,1] => \"+15*b[1]^2*a[2]^4+60*b[1]^2*a[2]^3*a[3]+60*b[1]^2*a[2]^3*a[…\n",
       "  [0,1,1,1,1,1] => \"+6*b[1]^5*a[2]+6*b[1]^5*a[3]+6*b[1]^5*a[4]+6*b[1]^5*a[5]+6*…\n",
       "  [0,0,0,1,1]   => \"+10*b[1]^2*a[2]^3+30*b[1]^2*a[2]^2*a[3]+30*b[1]^2*a[2]^2*a[…\n",
       "  [0,0,1,1,0,1] => \"+180*b[1]*a[2]*b[2]^2*a[3]^2+360*b[1]*a[2]*b[2]^2*a[3]*a[4]…\n",
       "  [0,0,1,1,1,1] => \"+15*b[1]^4*a[2]^2+30*b[1]^4*a[2]*a[3]+30*b[1]^4*a[2]*a[4]+3…\n",
       "  [0,0,0,0,1]   => \"+5*b[1]*a[2]^4+20*b[1]*a[2]^3*a[3]+20*b[1]*a[2]^3*a[4]+20*b…\n",
       "  [0,0,1,0,1]   => \"+60*b[1]*a[2]*b[2]*a[3]^2+120*b[1]*a[2]*b[2]*a[3]*a[4]+120*…\n",
       "  [0,1,1]       => \"+3*b[1]^2*a[2]+3*b[1]^2*a[3]+3*b[1]^2*a[4]+3*b[1]^2*a[5]+3*…\n",
       "  [0,0,1,1,1]   => \"+10*b[1]^3*a[2]^2+20*b[1]^3*a[2]*a[3]+20*b[1]^3*a[2]*a[4]+2…\n",
       "  [0,0,0,0,0,1] => \"+6*b[1]*a[2]^5+30*b[1]*a[2]^4*a[3]+30*b[1]*a[2]^4*a[4]+30*b…\n",
       "  [0,0,1,1]     => \"+6*b[1]^2*a[2]^2+12*b[1]^2*a[2]*a[3]+12*b[1]^2*a[2]*a[4]+12…\n",
       "  [0,1]         => \"+2*b[1]*a[2]+2*b[1]*a[3]+2*b[1]*a[4]+2*b[1]*a[5]+2*b[1]*a[6…\n",
       "  [0,1,0,1,1]   => \"+60*b[1]^2*a[2]*b[2]*a[3]+60*b[1]^2*a[2]*b[2]*a[4]+60*b[1]^…\n",
       "  [0,1,1,1]     => \"+4*b[1]^3*a[2]+4*b[1]^3*a[3]+4*b[1]^3*a[4]+4*b[1]^3*a[5]+4*…\n",
       "  [0,1,1,1,1]   => \"+5*b[1]^4*a[2]+5*b[1]^4*a[3]+5*b[1]^4*a[4]+5*b[1]^4*a[5]+5*…"
      ]
     },
     "execution_count": 9,
     "metadata": {},
     "output_type": "execute_result"
    }
   ],
   "source": [
    "@time begin \n",
    "    eqs = generate_equations(1,10)\n",
    "    merge!(eqs,generate_equations(2,10)) \n",
    "    merge!(eqs,generate_equations(3,10))\n",
    "    merge!(eqs,generate_equations(4,10))\n",
    "    merge!(eqs,generate_equations(5,10))\n",
    "    merge!(eqs,generate_equations(6,10))    \n",
    "end    "
   ]
  },
  {
   "cell_type": "markdown",
   "metadata": {},
   "source": [
    "##Check equations for PP 5/6 A"
   ]
  },
  {
   "cell_type": "markdown",
   "metadata": {},
   "source": [
    "###Coefficients from \n",
    ">###[http://www.asc.tuwien.ac.at/~winfried/splitting](http://www.asc.tuwien.ac.at/~winfried/splitting/index.php?rc=0&ab=pp-56-a-ab&name=PP%205/6%20A)"
   ]
  },
  {
   "cell_type": "code",
   "execution_count": 10,
   "metadata": {
    "collapsed": false
   },
   "outputs": [
    {
     "data": {
      "text/plain": [
       "8-element Array{Float64,1}:\n",
       "  0.578801 \n",
       "  0.273129 \n",
       " -0.102734 \n",
       "  0.0680149\n",
       " -0.835352 \n",
       "  0.253874 \n",
       "  0.562616 \n",
       "  0.201651 "
      ]
     },
     "execution_count": 10,
     "metadata": {},
     "output_type": "execute_result"
    }
   ],
   "source": [
    "a=[\n",
    " 0.201651044312324230,\n",
    " 0.562615975356569200,\n",
    " 0.253874038247554845,\n",
    "-0.835351693190370636,\n",
    " 0.068014946093165092,\n",
    "-0.102733803148432142,\n",
    " 0.273128836056524479,\n",
    " 0.578800656272664932]\n",
    "b=[\n",
    " 0.578800656272664932,\n",
    " 0.273128836056524479,\n",
    "-0.102733803148432142,\n",
    " 0.068014946093165092,\n",
    "-0.835351693190370636,\n",
    " 0.253874038247554845,\n",
    " 0.562615975356569200,\n",
    " 0.201651044312324230]"
   ]
  },
  {
   "cell_type": "markdown",
   "metadata": {},
   "source": [
    "###Generate equations for $p=5$, $s=8$"
   ]
  },
  {
   "cell_type": "code",
   "execution_count": 11,
   "metadata": {
    "collapsed": false
   },
   "outputs": [
    {
     "name": "stdout",
     "output_type": "stream",
     "text": [
      "  0.043806 seconds (453.30 k allocations: 39.294 MB, 18.87% gc time)\n"
     ]
    },
    {
     "data": {
      "text/plain": [
       "Dict{Array{Int64,1},AbstractString} with 6 entries:\n",
       "  [0,0,0,0,1] => \"+5*b[1]*a[2]^4+20*b[1]*a[2]^3*a[3]+20*b[1]*a[2]^3*a[4]+20*b[1…\n",
       "  [0,0,1,0,1] => \"+60*b[1]*a[2]*b[2]*a[3]^2+120*b[1]*a[2]*b[2]*a[3]*a[4]+120*b[…\n",
       "  [0,0,1,1,1] => \"+10*b[1]^3*a[2]^2+20*b[1]^3*a[2]*a[3]+20*b[1]^3*a[2]*a[4]+20*…\n",
       "  [0,1,0,1,1] => \"+60*b[1]^2*a[2]*b[2]*a[3]+60*b[1]^2*a[2]*b[2]*a[4]+60*b[1]^2*…\n",
       "  [0,0,0,1,1] => \"+10*b[1]^2*a[2]^3+30*b[1]^2*a[2]^2*a[3]+30*b[1]^2*a[2]^2*a[4]…\n",
       "  [0,1,1,1,1] => \"+5*b[1]^4*a[2]+5*b[1]^4*a[3]+5*b[1]^4*a[4]+5*b[1]^4*a[5]+5*b[…"
      ]
     },
     "execution_count": 11,
     "metadata": {},
     "output_type": "execute_result"
    }
   ],
   "source": [
    "@time eqs = generate_equations(5,8)"
   ]
  },
  {
   "cell_type": "markdown",
   "metadata": {},
   "source": [
    "###Check equations"
   ]
  },
  {
   "cell_type": "code",
   "execution_count": 12,
   "metadata": {
    "collapsed": false
   },
   "outputs": [
    {
     "name": "stdout",
     "output_type": "stream",
     "text": [
      "[0,0,0,0,1]\t2.4424906541753444e-15\n",
      "[0,0,1,0,1]\t0.0\n",
      "[0,0,1,1,1]\t-1.5543122344752192e-15\n",
      "[0,1,0,1,1]\t2.4424906541753444e-15\n",
      "[0,0,0,1,1]\t2.220446049250313e-15\n",
      "[0,1,1,1,1]\t1.1102230246251565e-15\n"
     ]
    }
   ],
   "source": [
    "for (lw, eq) in eqs\n",
    "    res = eval(parse(eq))\n",
    "    println(lw,\"\\t\",res)\n",
    "end"
   ]
  },
  {
   "cell_type": "markdown",
   "metadata": {},
   "source": [
    "###Generate equations for $p=6$, $s=8$"
   ]
  },
  {
   "cell_type": "code",
   "execution_count": 13,
   "metadata": {
    "collapsed": false
   },
   "outputs": [
    {
     "name": "stdout",
     "output_type": "stream",
     "text": [
      "  0.148795 seconds (1.55 M allocations: 163.747 MB, 13.16% gc time)\n"
     ]
    },
    {
     "data": {
      "text/plain": [
       "Dict{Array{Int64,1},AbstractString} with 9 entries:\n",
       "  [0,0,0,1,0,1] => \"+120*b[1]*a[2]*b[2]*a[3]^3+360*b[1]*a[2]*b[2]*a[3]^2*a[4]+3…\n",
       "  [0,0,0,0,0,1] => \"+6*b[1]*a[2]^5+30*b[1]*a[2]^4*a[3]+30*b[1]*a[2]^4*a[4]+30*b…\n",
       "  [0,0,0,0,1,1] => \"+15*b[1]^2*a[2]^4+60*b[1]^2*a[2]^3*a[3]+60*b[1]^2*a[2]^3*a[…\n",
       "  [0,0,1,0,1,1] => \"+180*b[1]^2*a[2]*b[2]*a[3]^2+360*b[1]^2*a[2]*b[2]*a[3]*a[4]…\n",
       "  [0,1,0,1,1,1] => \"+120*b[1]^3*a[2]*b[2]*a[3]+120*b[1]^3*a[2]*b[2]*a[4]+120*b[…\n",
       "  [0,0,0,1,1,1] => \"+20*b[1]^3*a[2]^3+60*b[1]^3*a[2]^2*a[3]+60*b[1]^3*a[2]^2*a[…\n",
       "  [0,1,1,1,1,1] => \"+6*b[1]^5*a[2]+6*b[1]^5*a[3]+6*b[1]^5*a[4]+6*b[1]^5*a[5]+6*…\n",
       "  [0,0,1,1,0,1] => \"+180*b[1]*a[2]*b[2]^2*a[3]^2+360*b[1]*a[2]*b[2]^2*a[3]*a[4]…\n",
       "  [0,0,1,1,1,1] => \"+15*b[1]^4*a[2]^2+30*b[1]^4*a[2]*a[3]+30*b[1]^4*a[2]*a[4]+3…"
      ]
     },
     "execution_count": 13,
     "metadata": {},
     "output_type": "execute_result"
    }
   ],
   "source": [
    "@time eqs = generate_equations(6,8)"
   ]
  },
  {
   "cell_type": "markdown",
   "metadata": {},
   "source": [
    "###Compute LEM (local error measure)"
   ]
  },
  {
   "cell_type": "code",
   "execution_count": 14,
   "metadata": {
    "collapsed": false
   },
   "outputs": [
    {
     "data": {
      "text/plain": [
       "9-element Array{Any,1}:\n",
       " -0.0418206 \n",
       " -0.00396471\n",
       "  0.0336576 \n",
       "  0.116924  \n",
       " -0.0418206 \n",
       " -0.0539661 \n",
       " -0.00396471\n",
       "  0.00899896\n",
       "  0.0336576 "
      ]
     },
     "execution_count": 14,
     "metadata": {},
     "output_type": "execute_result"
    }
   ],
   "source": [
    "λ = [eval(parse(eq)) for (lw, eq) in eqs]"
   ]
  },
  {
   "cell_type": "code",
   "execution_count": 15,
   "metadata": {
    "collapsed": false
   },
   "outputs": [
    {
     "data": {
      "text/plain": [
       "0.14986533331123328"
      ]
     },
     "execution_count": 15,
     "metadata": {},
     "output_type": "execute_result"
    }
   ],
   "source": [
    "norm(λ)"
   ]
  }
 ],
 "metadata": {
  "kernelspec": {
   "display_name": "Julia 0.4.6",
   "language": "julia",
   "name": "julia-0.4"
  },
  "language_info": {
   "file_extension": ".jl",
   "mimetype": "application/julia",
   "name": "julia",
   "version": "0.4.6"
  }
 },
 "nbformat": 4,
 "nbformat_minor": 0
}
