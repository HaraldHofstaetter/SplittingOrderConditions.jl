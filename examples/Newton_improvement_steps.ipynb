{
 "cells": [
  {
   "cell_type": "code",
   "execution_count": 1,
   "metadata": {
    "collapsed": false
   },
   "outputs": [
    {
     "name": "stderr",
     "output_type": "stream",
     "text": [
      "WARNING: Method definition factorial(#T<:Integer, #T<:Integer) in module Base at combinatorics.jl:56 overwritten in module Combinatorics at /home/hofi/.julia/v0.4/Combinatorics/src/factorials.jl:18.\n",
      "WARNING: Method definition factorial(Integer, Integer) in module Base at combinatorics.jl:66 overwritten in module Combinatorics at /home/hofi/.julia/v0.4/Combinatorics/src/factorials.jl:28.\n",
      "WARNING: Method definition combinations(Any, Integer) in module Base at combinatorics.jl:182 overwritten in module Combinatorics at /home/hofi/.julia/v0.4/Combinatorics/src/combinations.jl:42.\n",
      "WARNING: Method definition permutations(Any) in module Base at combinatorics.jl:219 overwritten in module Combinatorics at /home/hofi/.julia/v0.4/Combinatorics/src/permutations.jl:24.\n",
      "WARNING: Method definition nthperm!(AbstractArray{T<:Any, 1}, Integer) in module Base at combinatorics.jl:70 overwritten in module Combinatorics at /home/hofi/.julia/v0.4/Combinatorics/src/permutations.jl:136.\n",
      "WARNING: Method definition nthperm(AbstractArray{T<:Any, 1}, Integer) in module Base at combinatorics.jl:89 overwritten in module Combinatorics at /home/hofi/.julia/v0.4/Combinatorics/src/permutations.jl:157.\n",
      "WARNING: Method definition nthperm(AbstractArray{#T<:Integer, 1}) in module Base at combinatorics.jl:92 overwritten in module Combinatorics at /home/hofi/.julia/v0.4/Combinatorics/src/permutations.jl:161.\n",
      "WARNING: Method definition levicivita(AbstractArray{#T<:Integer, 1}) in module Base at combinatorics.jl:611 overwritten in module Combinatorics at /home/hofi/.julia/v0.4/Combinatorics/src/permutations.jl:188.\n",
      "WARNING: Method definition parity(AbstractArray{#T<:Integer, 1}) in module Base at combinatorics.jl:642 overwritten in module Combinatorics at /home/hofi/.julia/v0.4/Combinatorics/src/permutations.jl:221.\n",
      "WARNING: Method definition partitions(Integer) in module Base at combinatorics.jl:252 overwritten in module Combinatorics at /home/hofi/.julia/v0.4/Combinatorics/src/partitions.jl:26.\n",
      "WARNING: Method definition partitions(Integer, Integer) in module Base at combinatorics.jl:318 overwritten in module Combinatorics at /home/hofi/.julia/v0.4/Combinatorics/src/partitions.jl:93.\n",
      "WARNING: Method definition partitions(AbstractArray{T<:Any, 1}) in module Base at combinatorics.jl:380 overwritten in module Combinatorics at /home/hofi/.julia/v0.4/Combinatorics/src/partitions.jl:158.\n",
      "WARNING: Method definition partitions(AbstractArray{T<:Any, 1}, Int64) in module Base at combinatorics.jl:447 overwritten in module Combinatorics at /home/hofi/.julia/v0.4/Combinatorics/src/partitions.jl:228.\n",
      "WARNING: Method definition prevprod(Array{Int64, 1}, Any) in module Base at combinatorics.jl:565 overwritten in module Combinatorics at /home/hofi/.julia/v0.4/Combinatorics/src/partitions.jl:354.\n"
     ]
    }
   ],
   "source": [
    "using SplittingOrderConditions"
   ]
  },
  {
   "cell_type": "code",
   "execution_count": 2,
   "metadata": {
    "collapsed": false
   },
   "outputs": [
    {
     "name": "stdout",
     "output_type": "stream",
     "text": [
      "  0.294642 seconds (577.99 k allocations: 39.528 MB, 1.11% gc time)\n"
     ]
    },
    {
     "data": {
      "text/plain": [
       "Dict{Array{Int64,1},AbstractString} with 8 entries:\n",
       "  [0,1]       => \"+2*b1*a2+2*b1*a3+2*b1*a4+2*b1*b4+2*b1*b3+2*b1*b2+2*b1*b1+2*b2…\n",
       "  [0]         => \"+1*a1+1*a2+1*a3+1*a4+1*b4+1*b3+1*b2+1*b1-1\"\n",
       "  [0,0,0,0,1] => \"+5*b1*a2^4+20*b1*a2^3*a3+20*b1*a2^3*a4+20*b1*a2^3*b4+20*b1*a2…\n",
       "  [0,0,1]     => \"+3*b1*a2^2+6*b1*a2*a3+6*b1*a2*a4+6*b1*a2*b4+6*b1*a2*b3+6*b1*a…\n",
       "  [0,0,1,0,1] => \"+60*b1*a2*b2*a3^2+120*b1*a2*b2*a3*a4+120*b1*a2*b2*a3*b4+120*b…\n",
       "  [0,0,0,1,1] => \"+10*b1^2*a2^3+30*b1^2*a2^2*a3+30*b1^2*a2^2*a4+30*b1^2*a2^2*b4…\n",
       "  [0,0,0,1]   => \"+4*b1*a2^3+12*b1*a2^2*a3+12*b1*a2^2*a4+12*b1*a2^2*b4+12*b1*a2…\n",
       "  [0,0,1,1]   => \"+6*b1^2*a2^2+12*b1^2*a2*a3+12*b1^2*a2*a4+12*b1^2*a2*b4+12*b1^…"
      ]
     },
     "execution_count": 2,
     "metadata": {},
     "output_type": "execute_result"
    }
   ],
   "source": [
    "s=8\n",
    "p=5\n",
    "@time begin    \n",
    "    eqs = generate_equations(1,s, palindromic=true, with_brackets=false)\n",
    "    for q=2:p\n",
    "        merge!(eqs,generate_equations(q,s, palindromic=true, with_brackets=false)) \n",
    "    end\n",
    "end    \n",
    "eqs"
   ]
  },
  {
   "cell_type": "code",
   "execution_count": 3,
   "metadata": {
    "collapsed": false
   },
   "outputs": [
    {
     "name": "stderr",
     "output_type": "stream",
     "text": [
      "# of attemps to call form = 306\n",
      "# of attemps to call form = 11\n",
      "# of attemps to call form = 331\n",
      "# of attemps to call form = 108\n",
      "# of attemps to call form = 555\n",
      "# of attemps to call form = 221\n",
      "# of attemps to call form = 219\n",
      "# of attemps to call form = 331\n"
     ]
    },
    {
     "data": {
      "text/plain": [
       "8-element Array{Function,1}:\n",
       " (anonymous function)\n",
       " (anonymous function)\n",
       " (anonymous function)\n",
       " (anonymous function)\n",
       " (anonymous function)\n",
       " (anonymous function)\n",
       " (anonymous function)\n",
       " (anonymous function)"
      ]
     },
     "execution_count": 3,
     "metadata": {},
     "output_type": "execute_result"
    }
   ],
   "source": [
    "vars = [\"a1\", \"a2\", \"a3\", \"a4\", \"b1\", \"b2\", \"b3\", \"b4\"]\n",
    "funs = Dict{Array{Int64,1},Function}()\n",
    "for lw in keys(eqs)\n",
    "    for k =1:length(vars)\n",
    "        eqs[lw] = replace(eqs[lw], vars[k], string(\"x(\",k,\")\"))        \n",
    "    end\n",
    "    funs[lw] = SplittingOrderConditions.compile_fg(eqs[lw], length(vars))\n",
    "end    \n",
    "funs=collect(values(funs))"
   ]
  },
  {
   "cell_type": "code",
   "execution_count": 4,
   "metadata": {
    "collapsed": false
   },
   "outputs": [
    {
     "name": "stdout",
     "output_type": "stream",
     "text": [
      "res = 3.284152125467809482767519642677476869662589806216058320636409027683003186193324e-14\n",
      "res = 1.066634991358370061492688570360775527091885272177340293678612410515173065352047e-24\n",
      "res = 6.520443917322062402922169467673567152184416441919793343723693167523111596720383e-48\n",
      "res = 1.17451892349284446905254385334085434167177604956333426836322367194292848523009e-75\n"
     ]
    }
   ],
   "source": [
    "a = [0.0948061248011184,0.295318061899783,1.53754156461765,-1.76438699139276,\n",
    "     0.0815411353469756,-0.000346187375210155,0.516036508037932,0.239489784064514]\n",
    "b = [0.239489784064514,0.516036508037932,-0.000346187375210155,0.0815411353469756,\n",
    "    -1.76438699139276,1.53754156461765,0.295318061899783,0.0948061248011184]\n",
    "x = [BigFloat(t) for t in vcat(a[1:4],b[1:4])]\n",
    "n = length(funs)\n",
    "J=zeros(BigFloat,n,n)\n",
    "f=zeros(BigFloat,n)\n",
    "g=zeros(BigFloat,n)\n",
    "while true\n",
    "    for k=1:n\n",
    "        f[k] = funs[k](x,g)\n",
    "        J[k,:] = g.'\n",
    "    end\n",
    "    res = maximum(abs(f))\n",
    "    println(\"res = \", res)\n",
    "    x -= J\\f\n",
    "    if res<eps(BigFloat)*100\n",
    "        break\n",
    "    end\n",
    "end\n",
    "a = vcat(x[1:4],reverse(x[5:8]))\n",
    "b = reverse(a);"
   ]
  },
  {
   "cell_type": "code",
   "execution_count": 5,
   "metadata": {
    "collapsed": false
   },
   "outputs": [
    {
     "data": {
      "text/plain": [
       "8-element Array{BigFloat,1}:\n",
       "  9.480612480096383755810238332092734295342265842893021596275902029430768282124701e-02\n",
       "  2.953180618997683333982799787452393320472145416348581713921729632789296702805809e-01\n",
       "  1.537541564619954771866660112165026811200228013610318688766209981025206572878256    \n",
       " -1.764386991395374283204348438900170800972430834544106121236887781167578344571381    \n",
       "  8.154113534711735851774025233958719758552038570752172710018665663195316858490895e-02\n",
       " -3.461873752067720546596206064633419451746355641025988198797095382700431672899566e-04\n",
       "  5.16036508038544019149622640437979835447145581419329353984986889207173627040678e-01 \n",
       "  2.394897840642327347686026924978736236840742893072505628504519802682776661329925e-01"
      ]
     },
     "execution_count": 5,
     "metadata": {},
     "output_type": "execute_result"
    }
   ],
   "source": [
    "a"
   ]
  },
  {
   "cell_type": "code",
   "execution_count": 6,
   "metadata": {
    "collapsed": false
   },
   "outputs": [
    {
     "data": {
      "text/plain": [
       "8-element Array{BigFloat,1}:\n",
       "  2.394897840642327347686026924978736236840742893072505628504519802682776661329925e-01\n",
       "  5.16036508038544019149622640437979835447145581419329353984986889207173627040678e-01 \n",
       " -3.461873752067720546596206064633419451746355641025988198797095382700431672899566e-04\n",
       "  8.154113534711735851774025233958719758552038570752172710018665663195316858490895e-02\n",
       " -1.764386991395374283204348438900170800972430834544106121236887781167578344571381    \n",
       "  1.537541564619954771866660112165026811200228013610318688766209981025206572878256    \n",
       "  2.953180618997683333982799787452393320472145416348581713921729632789296702805809e-01\n",
       "  9.480612480096383755810238332092734295342265842893021596275902029430768282124701e-02"
      ]
     },
     "execution_count": 6,
     "metadata": {},
     "output_type": "execute_result"
    }
   ],
   "source": [
    "b"
   ]
  },
  {
   "cell_type": "code",
   "execution_count": 7,
   "metadata": {
    "collapsed": false
   },
   "outputs": [
    {
     "name": "stdout",
     "output_type": "stream",
     "text": [
      "res = 1.883271295730021542957273486643548024825501147245366326589017518861298133585104e-15\n",
      "res = 3.007912408428557697270705224694414107343315480010314519125487119802583882403688e-27\n",
      "res = 1.389569169748473132922779612923049495867301989226660858474497314955700950408356e-52\n",
      "res = 3.972637535343444527677721856888183802713360167640689437110903596277552229454716e-76\n"
     ]
    }
   ],
   "source": [
    "a=[0.201651044312325,0.562615975356585,0.253874038247542,-0.835351693190397,\n",
    "    0.0680149460931738,-0.102733803148438,0.273128836056527,0.578800656272682]\n",
    "b=[0.578800656272682,0.273128836056527,-0.102733803148438,0.0680149460931738,\n",
    "    -0.835351693190397,0.253874038247542,0.562615975356585,0.201651044312325]\n",
    "x = [BigFloat(t) for t in vcat(a[1:4],b[1:4])]\n",
    "n = length(funs)\n",
    "J=zeros(BigFloat,n,n)\n",
    "f=zeros(BigFloat,n)\n",
    "g=zeros(BigFloat,n)\n",
    "while true\n",
    "    for k=1:n\n",
    "        f[k] = funs[k](x,g)\n",
    "        J[k,:] = g.'\n",
    "    end\n",
    "    res = maximum(abs(f))\n",
    "    println(\"res = \", res)\n",
    "    x -= J\\f\n",
    "    if res<eps(BigFloat)*100\n",
    "        break\n",
    "    end\n",
    "end\n",
    "a = vcat(x[1:4],reverse(x[5:8]))\n",
    "b = reverse(a);"
   ]
  },
  {
   "cell_type": "code",
   "execution_count": 8,
   "metadata": {
    "collapsed": false
   },
   "outputs": [
    {
     "data": {
      "text/plain": [
       "8-element Array{BigFloat,1}:\n",
       "  2.016510443123242295010717537127204350343897695135273956068179634356826878006001e-01\n",
       "  5.626159753565692004726136871495739306245002418928744167752083427967419233021117e-01\n",
       "  2.538740382475548454088261616327640537887272103604989852329201422299961638614295e-01\n",
       " -8.353516931903706357129392355396398222058695622004032927093969848250637070847104e-01\n",
       "  6.801494609316509176653714245969736234055991715893380050062743095376070430288747e-02\n",
       " -1.027338031484321420816894557883886342801172074332317945637108267769652758423583e-01\n",
       "  2.731288360565244789123179237944314885888137612222677858196072939859034375087217e-01\n",
       "  5.788006562726649317332620225788411861089958694855327033379266381999440661513172e-01"
      ]
     },
     "execution_count": 8,
     "metadata": {},
     "output_type": "execute_result"
    }
   ],
   "source": [
    "a"
   ]
  },
  {
   "cell_type": "code",
   "execution_count": 9,
   "metadata": {
    "collapsed": false
   },
   "outputs": [
    {
     "data": {
      "text/plain": [
       "8-element Array{BigFloat,1}:\n",
       "  5.788006562726649317332620225788411861089958694855327033379266381999440661513172e-01\n",
       "  2.731288360565244789123179237944314885888137612222677858196072939859034375087217e-01\n",
       " -1.027338031484321420816894557883886342801172074332317945637108267769652758423583e-01\n",
       "  6.801494609316509176653714245969736234055991715893380050062743095376070430288747e-02\n",
       " -8.353516931903706357129392355396398222058695622004032927093969848250637070847104e-01\n",
       "  2.538740382475548454088261616327640537887272103604989852329201422299961638614295e-01\n",
       "  5.626159753565692004726136871495739306245002418928744167752083427967419233021117e-01\n",
       "  2.016510443123242295010717537127204350343897695135273956068179634356826878006001e-01"
      ]
     },
     "execution_count": 9,
     "metadata": {},
     "output_type": "execute_result"
    }
   ],
   "source": [
    "b"
   ]
  },
  {
   "cell_type": "code",
   "execution_count": 10,
   "metadata": {
    "collapsed": false
   },
   "outputs": [
    {
     "name": "stdout",
     "output_type": "stream",
     "text": [
      "res = 9.351088856389245945865075297989778198569056097910885365085548448543841526082178e-15\n",
      "res = 7.83776066642287586649210479063798498249465108352910611202340891644682250701444e-22\n",
      "res = 1.294048616391037085011696879277947599505724606761281449776548050674539418794095e-41\n",
      "res = 2.286229959766329520787732464520840544202940250352902781442375028177954129952915e-77\n"
     ]
    }
   ],
   "source": [
    "a=Complex{Float64}[0.0616859578475632 - 0.0222823670735455im,0.100252119833815 + 0.0665813505646068im,\n",
    "    0.173445604000608 + 0.0645347825330634im,0.142290226977369 - 0.0867529559497755im,\n",
    "    0.108004395790385 - 0.107731532365639im,0.180508075049188 - 0.00844653859129045im,\n",
    "    0.126231681726252 + 0.126845335227947im,0.107581938774818 - 0.0327480743453665im]\n",
    "b=Complex{Float64}[0.107581938774818 - 0.0327480743453665im,\n",
    "    0.126231681726252 + 0.126845335227947im,0.180508075049188 - 0.00844653859129045im,\n",
    "    0.108004395790385 - 0.107731532365639im,0.142290226977369 - 0.0867529559497755im,\n",
    "    0.173445604000608 + 0.0645347825330634im,0.100252119833815 + 0.0665813505646068im,\n",
    "    0.0616859578475632 - 0.0222823670735455im]\n",
    "x = [Complex{BigFloat}(t) for t in vcat(a[1:4],b[1:4])]\n",
    "n = length(funs)\n",
    "J=zeros(Complex{BigFloat},n,n)\n",
    "f=zeros(Complex{BigFloat},n)\n",
    "g=zeros(Complex{BigFloat},n)\n",
    "while true\n",
    "    for k=1:n\n",
    "        f[k] = funs[k](x,g)\n",
    "        J[k,:] = g.'\n",
    "    end\n",
    "    res = maximum(abs(f))\n",
    "    println(\"res = \", res)\n",
    "    x -= J\\f\n",
    "    if res<eps(BigFloat)*100\n",
    "        break\n",
    "    end\n",
    "end\n",
    "a = vcat(x[1:4],reverse(x[5:8]))\n",
    "b = reverse(a);"
   ]
  },
  {
   "cell_type": "code",
   "execution_count": 11,
   "metadata": {
    "collapsed": false
   },
   "outputs": [
    {
     "data": {
      "text/plain": [
       "8-element Array{Complex{BigFloat},1}:\n",
       " 6.168595784859109424379843422161445371422367031536680311317629391969514199290263e-02-2.228236707396364035949975968671562744923709082096192480324603659193214509684778e-02im\n",
       "  1.00252119839293154352277026785837311496548538536478455172567661832231658414216e-01+6.658135056707195071948508981148362921443577049056794133051610895433609171026112e-02im\n",
       "  1.73445604001127437122682376753370831303599352140055084824863577685824958080055e-01+6.453478253014967114573942989676273618816291601334291727780863420463680225705505e-02im\n",
       " 1.422902269732557020533341214022138791440669214243052322164718960977419693026926e-01-8.675295595502738947058641357262101986267295779085090526630706063607479973831568e-02im\n",
       " 1.080043957830595334777308033784256203158581849001575504324231584293991298551569e-01-1.077315323540064128413870530898261896293948381271446508518411971977603831770945e-01im\n",
       " 1.805080750470063893413572056580201364732210819809652874391233168248962808320333e-01-8.446538597788339928989606020801900052440191175964128811460785663132123701252231e-03im\n",
       " 1.262316817286924926540277506363228627049595385031867870057966441651753478492105e-01+1.268453352278416445318635499224149685985053572106080328320760098157251685786566e-01im\n",
       " 1.075819387789741967547922811641949048475227121994847997955774510450355136737389e-01-3.274807434427748379662523726069659700735896579959728170754567288579861083246104e-02im"
      ]
     },
     "execution_count": 11,
     "metadata": {},
     "output_type": "execute_result"
    }
   ],
   "source": [
    "a"
   ]
  },
  {
   "cell_type": "code",
   "execution_count": 12,
   "metadata": {
    "collapsed": false
   },
   "outputs": [
    {
     "data": {
      "text/plain": [
       "8-element Array{Complex{BigFloat},1}:\n",
       " 1.075819387789741967547922811641949048475227121994847997955774510450355136737389e-01-3.274807434427748379662523726069659700735896579959728170754567288579861083246104e-02im\n",
       " 1.262316817286924926540277506363228627049595385031867870057966441651753478492105e-01+1.268453352278416445318635499224149685985053572106080328320760098157251685786566e-01im\n",
       " 1.805080750470063893413572056580201364732210819809652874391233168248962808320333e-01-8.446538597788339928989606020801900052440191175964128811460785663132123701252231e-03im\n",
       " 1.080043957830595334777308033784256203158581849001575504324231584293991298551569e-01-1.077315323540064128413870530898261896293948381271446508518411971977603831770945e-01im\n",
       " 1.422902269732557020533341214022138791440669214243052322164718960977419693026926e-01-8.675295595502738947058641357262101986267295779085090526630706063607479973831568e-02im\n",
       "  1.73445604001127437122682376753370831303599352140055084824863577685824958080055e-01+6.453478253014967114573942989676273618816291601334291727780863420463680225705505e-02im\n",
       "  1.00252119839293154352277026785837311496548538536478455172567661832231658414216e-01+6.658135056707195071948508981148362921443577049056794133051610895433609171026112e-02im\n",
       " 6.168595784859109424379843422161445371422367031536680311317629391969514199290263e-02-2.228236707396364035949975968671562744923709082096192480324603659193214509684778e-02im"
      ]
     },
     "execution_count": 12,
     "metadata": {},
     "output_type": "execute_result"
    }
   ],
   "source": [
    "b"
   ]
  },
  {
   "cell_type": "code",
   "execution_count": null,
   "metadata": {
    "collapsed": true
   },
   "outputs": [],
   "source": []
  }
 ],
 "metadata": {
  "anaconda-cloud": {},
  "kernelspec": {
   "display_name": "Julia 0.4.7",
   "language": "julia",
   "name": "julia-0.4"
  },
  "language_info": {
   "file_extension": ".jl",
   "mimetype": "application/julia",
   "name": "julia",
   "version": "0.4.7"
  }
 },
 "nbformat": 4,
 "nbformat_minor": 1
}
