{
 "cells": [
  {
   "cell_type": "code",
   "execution_count": 1,
   "metadata": {
    "collapsed": false
   },
   "outputs": [
    {
     "name": "stderr",
     "output_type": "stream",
     "text": [
      "WARNING: Method definition factorial(#T<:Integer, #T<:Integer) in module Base at combinatorics.jl:56 overwritten in module Combinatorics at /home/hofi/.julia/v0.4/Combinatorics/src/factorials.jl:18.\n",
      "WARNING: Method definition factorial(Integer, Integer) in module Base at combinatorics.jl:66 overwritten in module Combinatorics at /home/hofi/.julia/v0.4/Combinatorics/src/factorials.jl:28.\n",
      "WARNING: Method definition combinations(Any, Integer) in module Base at combinatorics.jl:182 overwritten in module Combinatorics at /home/hofi/.julia/v0.4/Combinatorics/src/combinations.jl:42.\n",
      "WARNING: Method definition permutations(Any) in module Base at combinatorics.jl:219 overwritten in module Combinatorics at /home/hofi/.julia/v0.4/Combinatorics/src/permutations.jl:24.\n",
      "WARNING: Method definition nthperm!(AbstractArray{T<:Any, 1}, Integer) in module Base at combinatorics.jl:70 overwritten in module Combinatorics at /home/hofi/.julia/v0.4/Combinatorics/src/permutations.jl:136.\n",
      "WARNING: Method definition nthperm(AbstractArray{T<:Any, 1}, Integer) in module Base at combinatorics.jl:89 overwritten in module Combinatorics at /home/hofi/.julia/v0.4/Combinatorics/src/permutations.jl:157.\n",
      "WARNING: Method definition nthperm(AbstractArray{#T<:Integer, 1}) in module Base at combinatorics.jl:92 overwritten in module Combinatorics at /home/hofi/.julia/v0.4/Combinatorics/src/permutations.jl:161.\n",
      "WARNING: Method definition levicivita(AbstractArray{#T<:Integer, 1}) in module Base at combinatorics.jl:611 overwritten in module Combinatorics at /home/hofi/.julia/v0.4/Combinatorics/src/permutations.jl:188.\n",
      "WARNING: Method definition parity(AbstractArray{#T<:Integer, 1}) in module Base at combinatorics.jl:642 overwritten in module Combinatorics at /home/hofi/.julia/v0.4/Combinatorics/src/permutations.jl:221.\n",
      "WARNING: Method definition partitions(Integer) in module Base at combinatorics.jl:252 overwritten in module Combinatorics at /home/hofi/.julia/v0.4/Combinatorics/src/partitions.jl:26.\n",
      "WARNING: Method definition partitions(Integer, Integer) in module Base at combinatorics.jl:318 overwritten in module Combinatorics at /home/hofi/.julia/v0.4/Combinatorics/src/partitions.jl:93.\n",
      "WARNING: Method definition partitions(AbstractArray{T<:Any, 1}) in module Base at combinatorics.jl:380 overwritten in module Combinatorics at /home/hofi/.julia/v0.4/Combinatorics/src/partitions.jl:158.\n",
      "WARNING: Method definition partitions(AbstractArray{T<:Any, 1}, Int64) in module Base at combinatorics.jl:447 overwritten in module Combinatorics at /home/hofi/.julia/v0.4/Combinatorics/src/partitions.jl:228.\n",
      "WARNING: Method definition prevprod(Array{Int64, 1}, Any) in module Base at combinatorics.jl:565 overwritten in module Combinatorics at /home/hofi/.julia/v0.4/Combinatorics/src/partitions.jl:354.\n"
     ]
    }
   ],
   "source": [
    "using SplittingOrderConditions"
   ]
  },
  {
   "cell_type": "code",
   "execution_count": 2,
   "metadata": {
    "collapsed": false
   },
   "outputs": [
    {
     "data": {
      "text/plain": [
       "8"
      ]
     },
     "execution_count": 2,
     "metadata": {},
     "output_type": "execute_result"
    }
   ],
   "source": [
    "p=5\n",
    "s=8"
   ]
  },
  {
   "cell_type": "code",
   "execution_count": 3,
   "metadata": {
    "collapsed": false
   },
   "outputs": [
    {
     "name": "stdout",
     "output_type": "stream",
     "text": [
      "  0.270334 seconds (577.76 k allocations: 39.515 MB, 1.00% gc time)\n"
     ]
    },
    {
     "data": {
      "text/plain": [
       "Dict{Array{Int64,1},AbstractString} with 8 entries:\n",
       "  [0,1]       => \"+2*b1*a2+2*b1*a3+2*b1*a4+2*b1*b4+2*b1*b3+2*b1*b2+2*b1*b1+2*b2…\n",
       "  [0]         => \"+1*a1+1*a2+1*a3+1*a4+1*b4+1*b3+1*b2+1*b1-1\"\n",
       "  [0,0,0,0,1] => \"+5*b1*a2^4+20*b1*a2^3*a3+20*b1*a2^3*a4+20*b1*a2^3*b4+20*b1*a2…\n",
       "  [0,0,1]     => \"+3*b1*a2^2+6*b1*a2*a3+6*b1*a2*a4+6*b1*a2*b4+6*b1*a2*b3+6*b1*a…\n",
       "  [0,0,1,0,1] => \"+60*b1*a2*b2*a3^2+120*b1*a2*b2*a3*a4+120*b1*a2*b2*a3*b4+120*b…\n",
       "  [0,0,0,1,1] => \"+10*b1^2*a2^3+30*b1^2*a2^2*a3+30*b1^2*a2^2*a4+30*b1^2*a2^2*b4…\n",
       "  [0,0,0,1]   => \"+4*b1*a2^3+12*b1*a2^2*a3+12*b1*a2^2*a4+12*b1*a2^2*b4+12*b1*a2…\n",
       "  [0,0,1,1]   => \"+6*b1^2*a2^2+12*b1^2*a2*a3+12*b1^2*a2*a4+12*b1^2*a2*b4+12*b1^…"
      ]
     },
     "execution_count": 3,
     "metadata": {},
     "output_type": "execute_result"
    }
   ],
   "source": [
    "@time begin    \n",
    "    eqs = generate_equations(1,s, palindromic=true, with_brackets=false)\n",
    "    for q=2:p\n",
    "        merge!(eqs,generate_equations(q,s, palindromic=true, with_brackets=false)) \n",
    "    end\n",
    "end    \n",
    "eqs"
   ]
  },
  {
   "cell_type": "code",
   "execution_count": 4,
   "metadata": {
    "collapsed": false
   },
   "outputs": [
    {
     "data": {
      "text/plain": [
       "8-element Array{Pair{A,B},1}:\n",
       " \"a1\"=>\"x(1)\"\n",
       " \"a2\"=>\"x(2)\"\n",
       " \"a3\"=>\"x(3)\"\n",
       " \"a4\"=>\"x(4)\"\n",
       " \"b4\"=>\"x(5)\"\n",
       " \"b3\"=>\"x(6)\"\n",
       " \"b2\"=>\"x(7)\"\n",
       " \"b1\"=>\"x(8)\""
      ]
     },
     "execution_count": 4,
     "metadata": {},
     "output_type": "execute_result"
    }
   ],
   "source": [
    "ab2x = Pair[\"a1\"=>\"x(1)\", \"a2\"=>\"x(2)\", \"a3\"=>\"x(3)\", \"a4\"=>\"x(4)\",\n",
    "            \"b4\"=>\"x(5)\", \"b3\"=>\"x(6)\", \"b2\"=>\"x(7)\", \"b1\"=>\"x(8)\"]"
   ]
  },
  {
   "cell_type": "code",
   "execution_count": 5,
   "metadata": {
    "collapsed": false
   },
   "outputs": [
    {
     "data": {
      "text/plain": [
       "Dict{Array{Int64,1},AbstractString} with 8 entries:\n",
       "  [0,1]       => \"+2*x(8)*x(2)+2*x(8)*x(3)+2*x(8)*x(4)+2*x(8)*x(5)+2*x(8)*x(6)+…\n",
       "  [0]         => \"+1*x(1)+1*x(2)+1*x(3)+1*x(4)+1*x(5)+1*x(6)+1*x(7)+1*x(8)-1\"\n",
       "  [0,0,0,0,1] => \"+5*x(8)*x(2)^4+20*x(8)*x(2)^3*x(3)+20*x(8)*x(2)^3*x(4)+20*x(8…\n",
       "  [0,0,1]     => \"+3*x(8)*x(2)^2+6*x(8)*x(2)*x(3)+6*x(8)*x(2)*x(4)+6*x(8)*x(2)*…\n",
       "  [0,0,1,0,1] => \"+60*x(8)*x(2)*x(7)*x(3)^2+120*x(8)*x(2)*x(7)*x(3)*x(4)+120*x(…\n",
       "  [0,0,0,1,1] => \"+10*x(8)^2*x(2)^3+30*x(8)^2*x(2)^2*x(3)+30*x(8)^2*x(2)^2*x(4)…\n",
       "  [0,0,0,1]   => \"+4*x(8)*x(2)^3+12*x(8)*x(2)^2*x(3)+12*x(8)*x(2)^2*x(4)+12*x(8…\n",
       "  [0,0,1,1]   => \"+6*x(8)^2*x(2)^2+12*x(8)^2*x(2)*x(3)+12*x(8)^2*x(2)*x(4)+12*x…"
      ]
     },
     "execution_count": 5,
     "metadata": {},
     "output_type": "execute_result"
    }
   ],
   "source": [
    "for lw in keys(eqs)\n",
    "    for (rep, by) in ab2x\n",
    "        eqs[lw] = replace(eqs[lw], rep, by)\n",
    "    end    \n",
    "end\n",
    "eqs"
   ]
  },
  {
   "cell_type": "code",
   "execution_count": 6,
   "metadata": {
    "collapsed": false
   },
   "outputs": [
    {
     "data": {
      "text/plain": [
       "Dict{Array{Int64,1},Function} with 0 entries"
      ]
     },
     "execution_count": 6,
     "metadata": {},
     "output_type": "execute_result"
    }
   ],
   "source": [
    "eqs_optimized = Dict{Array{Int64,1},AbstractString}()\n",
    "funs = Dict{Array{Int64,1},Function}()"
   ]
  },
  {
   "cell_type": "code",
   "execution_count": 7,
   "metadata": {
    "collapsed": false
   },
   "outputs": [
    {
     "name": "stderr",
     "output_type": "stream",
     "text": [
      "# of attemps to call form = 578\n",
      "# of attemps to call form = 2259\n",
      "# of attemps to call form = 454\n",
      "# of attemps to call form = 758\n",
      "# of attemps to call form = 217\n",
      "# of attemps to call form = 1708\n",
      "# of attemps to call form = 112\n",
      "# of attemps to call form = 1651\n"
     ]
    },
    {
     "data": {
      "text/plain": [
       "Dict{Array{Int64,1},AbstractString} with 8 entries:\n",
       "  [0,1]       => \"    Z1_=x[2];\\n    Z2_=x[8];\\n    Z3_=x[3];\\n    Z4_=x[7];\\n …\n",
       "  [0]         => \"    Z1_=x[1];\\n    Z2_=x[2];\\n    Z3_=x[3];\\n    Z4_=x[4];\\n …\n",
       "  [0,0,0,0,1] => \"    Z1_=x[2];\\n    Z2_=x[8];\\n    Z3_=x[3];\\n    Z4_=x[4];\\n …\n",
       "  [0,0,1]     => \"    Z1_=x[2];\\n    Z2_=x[8];\\n    Z3_=x[3];\\n    Z4_=x[4];\\n …\n",
       "  [0,0,1,0,1] => \"    Z1_=x[2];\\n    Z2_=x[8];\\n    Z3_=x[3];\\n    Z4_=x[7];\\n …\n",
       "  [0,0,0,1,1] => \"    Z1_=x[2];\\n    Z2_=x[8];\\n    Z3_=x[3];\\n    Z4_=x[4];\\n …\n",
       "  [0,0,0,1]   => \"    Z1_=x[2];\\n    Z2_=x[8];\\n    Z3_=x[3];\\n    Z4_=x[4];\\n …\n",
       "  [0,0,1,1]   => \"    Z1_=x[2];\\n    Z2_=x[8];\\n    Z3_=x[3];\\n    Z4_=x[4];\\n …"
      ]
     },
     "execution_count": 7,
     "metadata": {},
     "output_type": "execute_result"
    }
   ],
   "source": [
    "for lw in keys(eqs)\n",
    "    input = string(\"\"\"\n",
    "Off Statistics;\n",
    "V x;\n",
    "\"\"\",\"L result = \",\n",
    "    eqs[lw],\n",
    "    \";\\n\",\n",
    "\"\"\"\n",
    "Print;\n",
    "Format O3;\n",
    "Format maple;\n",
    ".end\n",
    "\"\"\")\n",
    "    eqs_optimized[lw] = replace(replace(call_form(input, threads=4),\"(\", \"[\"), \")\", \"]\") \n",
    "    funs[lw] = eval(parse(string( \"x-> begin \", eqs_optimized[lw], \" end\")))\n",
    "end\n",
    "eqs_optimized"
   ]
  },
  {
   "cell_type": "code",
   "execution_count": 8,
   "metadata": {
    "collapsed": false
   },
   "outputs": [
    {
     "data": {
      "text/plain": [
       "8-element Array{Float64,1}:\n",
       "  0.201651 \n",
       "  0.562616 \n",
       "  0.253874 \n",
       " -0.835352 \n",
       "  0.0680149\n",
       " -0.102734 \n",
       "  0.273129 \n",
       "  0.578801 "
      ]
     },
     "execution_count": 8,
     "metadata": {},
     "output_type": "execute_result"
    }
   ],
   "source": [
    "x=[\n",
    " 0.201651044312324230,\n",
    " 0.562615975356569200,\n",
    " 0.253874038247554845,\n",
    "-0.835351693190370636,\n",
    " 0.068014946093165092,\n",
    "-0.102733803148432142,\n",
    " 0.273128836056524479,\n",
    " 0.578800656272664932]"
   ]
  },
  {
   "cell_type": "code",
   "execution_count": 9,
   "metadata": {
    "collapsed": false
   },
   "outputs": [
    {
     "data": {
      "text/plain": [
       "8-element Array{Any,1}:\n",
       "  0.0        \n",
       " -6.93889e-17\n",
       " -1.33227e-15\n",
       " -2.22045e-16\n",
       " -2.22045e-16\n",
       "  1.77636e-14\n",
       "  2.66454e-15\n",
       " -8.88178e-16"
      ]
     },
     "execution_count": 9,
     "metadata": {},
     "output_type": "execute_result"
    }
   ],
   "source": [
    "[ funs[lw](x) for lw in keys(eqs) ]"
   ]
  },
  {
   "cell_type": "code",
   "execution_count": 10,
   "metadata": {
    "collapsed": false
   },
   "outputs": [
    {
     "data": {
      "text/plain": [
       "\"+5*x(8)*x(2)^4+20*x(8)*x(2)^3*x(3)+20*x(8)*x(2)^3*x(4)+20*x(8)*x(2)^3*x(5)+20*x(8)*x(2)^3*x(6)+20*x(8)*x(2)^3*x(7)+20*x(8)*x(2)^3*x(8)+30*x(8)*x(2)^2*x(3)^2+60*x(8)*x(2)^2*x(3)*x(4)+60*x(8)*x(2)^2*x(3)*x(5)+60*x(8)*x(2)^2*x(3)*x(6)+60*x(8)*x(2)^2*x(3)*x(7)+60*x(8)*x(2)^2*x(3)*x(8)+30*x(8)*x(2)^2*x(4)^2+60*x(8)*x(2)^2*x(4)*x(5)+60*x(8)*x(2)^2*x(4)*x(6)+60*x(8)*x(2)^2*x(4)*x(7)+60*x(8)*x(2)^2*x(4)*x(8)+30*x(8)*x(2)^2*x(5)^2+60*x(8)*x(2)^2*x(5)*x(6)+60*x(8)*x(2)^2*x(5)*x(7)+60*x(8)*x(2)^2*x(5)*x(8)+30*x(8)*x(2)^2*x(6)^2+60*x(8)*x(2)^2*x(6)*x(7)+60*x(8)*x(2)^2*x(6)*x(8)+30*x(8)*x(2)^2*x(7)^2+60*x(8)*x(2)^2*x(7)*x(8)+30*x(8)*x(2)^2*x(8)^2+20*x(8)*x(2)*x(3)^3+60*x(8)*x(2)*x(3)^2*x(4)+60*x(8)*x(2)*x(3)^2*x(5)+60*x(8)*x(2)*x(3)^2*x(6)+60*x(8)*x(2)*x(3)^2*x(7)+60*x(8)*x(2)*x(3)^2*x(8)+60*x(8)*x(2)*x(3)*x(4)^2+120*x(8)*x(2)*x(3)*x(4)*x(5)+120*x(8)*x(2)*x(3)*x(4)*x(6)+120*x(8)*x(2)*x(3)*x(4)*x(7)+120*x(8)*x(2)*x(3)*x(4)*x(8)+60*x(8)*x(2)*x(3)*x(5)^2+120*x(8)*x(2)*x(3)*x(5)*x(6)+120*x(8)*x(2)*x(3)*x(5)*x(7)+120*x(8)*x(2)*x(3)*x(5)*x(8)+60*x(8)*x(2)*x(3)*x(6)^2+120*x(8)*x(2)*x(3)*x(6)*x(7)+120*x(8)*x(2)*x(3)*x(6)*x(8)+60*x(8)*x(2)*x(3)*x(7)^2+120*x(8)*x(2)*x(3)*x(7)*x(8)+60*x(8)*x(2)*x(3)*x(8)^2+20*x(8)*x(2)*x(4)^3+60*x(8)*x(2)*x(4)^2*x(5)+60*x(8)*x(2)*x(4)^2*x(6)+60*x(8)*x(2)*x(4)^2*x(7)+60*x(8)*x(2)*x(4)^2*x(8)+60*x(8)*x(2)*x(4)*x(5)^2+120*x(8)*x(2)*x(4)*x(5)*x(6)+120*x(8)*x(2)*x(4)*x(5)*x(7)+120*x(8)*x(2)*x(4)*x(5)*x(8)+60*x(8)*x(2)*x(4)*x(6)^2+120*x(8)*x(2)*x(4)*x(6)*x(7)+120*x(8)*x(2)*x(4)*x(6)*x(8)+60*x(8)*x(2)*x(4)*x(7)^2+120*x(8)*x(2)*x(4)*x(7)*x(8)+60*x(8)*x(2)*x(4)*x(8)^2+20*x(8)*x(2)*x(5)^3+60*x(8)*x(2)*x(5)^2*x(6)+60*x(8)*x(2)*x(5)^2*x(7)+60*x(8)*x(2)*x(5)^2*x(8)+60*x(8)*x(2)*x(5)*x(6)^2+120*x(8)*x(2)*x(5)*x(6)*x(7)+120*x(8)*x(2)*x(5)*x(6)*x(8)+60*x(8)*x(2)*x(5)*x(7)^2+120*x(8)*x(2)*x(5)*x(7)*x(8)+60*x(8)*x(2)*x(5)*x(8)^2+20*x(8)*x(2)*x(6)^3+60*x(8)*x(2)*x(6)^2*x(7)+60*x(8)*x(2)*x(6)^2*x(8)+60*x(8)*x(2)*x(6)*x(7)^2+120*x(8)*x(2)*x(6)*x(7)*x(8)+60*x(8)*x(2)*x(6)*x(8)^2+20*x(8)*x(2)*x(7)^3+60*x(8)*x(2)*x(7)^2*x(8)+60*x(8)*x(2)*x(7)*x(8)^2+20*x(8)*x(2)*x(8)^3+5*x(8)*x(3)^4+20*x(8)*x(3)^3*x(4)+20*x(8)*x(3)^3*x(5)+20*x(8)*x(3)^3*x(6)+20*x(8)*x(3)^3*x(7)+20*x(8)*x(3)^3*x(8)+30*x(8)*x(3)^2*x(4)^2+60*x(8)*x(3)^2*x(4)*x(5)+60*x(8)*x(3)^2*x(4)*x(6)+60*x(8)*x(3)^2*x(4)*x(7)+60*x(8)*x(3)^2*x(4)*x(8)+30*x(8)*x(3)^2*x(5)^2+60*x(8)*x(3)^2*x(5)*x(6)+60*x(8)*x(3)^2*x(5)*x(7)+60*x(8)*x(3)^2*x(5)*x(8)+30*x(8)*x(3)^2*x(6)^2+60*x(8)*x(3)^2*x(6)*x(7)+60*x(8)*x(3)^2*x(6)*x(8)+30*x(8)*x(3)^2*x(7)^2+60*x(8)*x(3)^2*x(7)*x(8)+30*x(8)*x(3)^2*x(8)^2+20*x(8)*x(3)*x(4)^3+60*x(8)*x(3)*x(4)^2*x(5)+60*x(8)*x(3)*x(4)^2*x(6)+60*x(8)*x(3)*x(4)^2*x(7)+60*x(8)*x(3)*x(4)^2*x(8)+60*x(8)*x(3)*x(4)*x(5)^2+120*x(8)*x(3)*x(4)*x(5)*x(6)+120*x(8)*x(3)*x(4)*x(5)*x(7)+120*x(8)*x(3)*x(4)*x(5)*x(8)+60*x(8)*x(3)*x(4)*x(6)^2+120*x(8)*x(3)*x(4)*x(6)*x(7)+120*x(8)*x(3)*x(4)*x(6)*x(8)+60*x(8)*x(3)*x(4)*x(7)^2+120*x(8)*x(3)*x(4)*x(7)*x(8)+60*x(8)*x(3)*x(4)*x(8)^2+20*x(8)*x(3)*x(5)^3+60*x(8)*x(3)*x(5)^2*x(6)+60*x(8)*x(3)*x(5)^2*x(7)+60*x(8)*x(3)*x(5)^2*x(8)+60*x(8)*x(3)*x(5)*x(6)^2+120*x(8)*x(3)*x(5)*x(6)*x(7)+120*x(8)*x(3)*x(5)*x(6)*x(8)+60*x(8)*x(3)*x(5)*x(7)^2+120*x(8)*x(3)*x(5)*x(7)*x(8)+60*x(8)*x(3)*x(5)*x(8)^2+20*x(8)*x(3)*x(6)^3+60*x(8)*x(3)*x(6)^2*x(7)+60*x(8)*x(3)*x(6)^2*x(8)+60*x(8)*x(3)*x(6)*x(7)^2+120*x(8)*x(3)*x(6)*x(7)*x(8)+60*x(8)*x(3)*x(6)*x(8)^2+20*x(8)*x(3)*x(7)^3+60*x(8)*x(3)*x(7)^2*x(8)+60*x(8)*x(3)*x(7)*x(8)^2+20*x(8)*x(3)*x(8)^3+5*x(8)*x(4)^4+20*x(8)*x(4)^3*x(5)+20*x(8)*x(4)^3*x(6)+20*x(8)*x(4)^3*x(7)+20*x(8)*x(4)^3*x(8)+30*x(8)*x(4)^2*x(5)^2+60*x(8)*x(4)^2*x(5)*x(6)+60*x(8)*x(4)^2*x(5)*x(7)+60*x(8)*x(4)^2*x(5)*x(8)+30*x(8)*x(4)^2*x(6)^2+60*x(8)*x(4)^2*x(6)*x(7)+60*x(8)*x(4)^2*x(6)*x(8)+30*x(8)*x(4)^2*x(7)^2+60*x(8)*x(4)^2*x(7)*x(8)+30*x(8)*x(4)^2*x(8)^2+20*x(8)*x(4)*x(5)^3+60*x(8)*x(4)*x(5)^2*x(6)+60*x(8)*x(4)*x(5)^2*x(7)+60*x(8)*x(4)*x(5)^2*x(8)+60*x(8)*x(4)*x(5)*x(6)^2+120*x(8)*x(4)*x(5)*x(6)*x(7)+120*x(8)*x(4)*x(5)*x(6)*x(8)+60*x(8)*x(4)*x(5)*x(7)^2+120*x(8)*x(4)*x(5)*x(7)*x(8)+60*x(8)*x(4)*x(5)*x(8)^2+20*x(8)*x(4)*x(6)^3+60*x(8)*x(4)*x(6)^2*x(7)+60*x(8)*x(4)*x(6)^2*x(8)+60*x(8)*x(4)*x(6)*x(7)^2+120*x(8)*x(4)*x(6)*x(7)*x(8)+60*x(8)*x(4)*x(6)*x(8)^2+20*x(8)*x(4)*x(7)^3+60*x(8)*x(4)*x(7)^2*x(8)+60*x(8)*x(4)*x(7)*x(8)^2+20*x(8)*x(4)*x(8)^3+5*x(8)*x(5)^4+20*x(8)*x(5)^3*x(6)+20*x(8)*x(5)^3*x(7)+20*x(8)*x(5)^3*x(8)+30*x(8)*x(5)^2*x(6)^2+60*x(8)*x(5)^2*x(6)*x(7)+60*x(8)*x(5)^2*x(6)*x(8)+30*x(8)*x(5)^2*x(7)^2+60*x(8)*x(5)^2*x(7)*x(8)+30*x(8)*x(5)^2*x(8)^2+20*x(8)*x(5)*x(6)^3+60*x(8)*x(5)*x(6)^2*x(7)+60*x(8)*x(5)*x(6)^2*x(8)+60*x(8)*x(5)*x(6)*x(7)^2+120*x(8)*x(5)*x(6)*x(7)*x(8)+60*x(8)*x(5)*x(6)*x(8)^2+20*x(8)*x(5)*x(7)^3+60*x(8)*x(5)*x(7)^2*x(8)+60*x(8)*x(5)*x(7)*x(8)^2+20*x(8)*x(5)*x(8)^3+5*x(8)*x(6)^4+20*x(8)*x(6)^3*x(7)+20*x(8)*x(6)^3*x(8)+30*x(8)*x(6)^2*x(7)^2+60*x(8)*x(6)^2*x(7)*x(8)+30*x(8)*x(6)^2*x(8)^2+20*x(8)*x(6)*x(7)^3+60*x(8)*x(6)*x(7)^2*x(8)+60*x(8)*x(6)*x(7)*x(8)^2+20*x(8)*x(6)*x(8)^3+5*x(8)*x(7)^4+20*x(8)*x(7)^3*x(8)+30*x(8)*x(7)^2*x(8)^2+20*x(8)*x(7)*x(8)^3+5*x(8)*x(8)^4+5*x(7)*x(3)^4+20*x(7)*x(3)^3*x(4)+20*x(7)*x(3)^3*x(5)+20*x(7)*x(3)^3*x(6)+20*x(7)*x(3)^3*x(7)+20*x(7)*x(3)^3*x(8)+30*x(7)*x(3)^2*x(4)^2+60*x(7)*x(3)^2*x(4)*x(5)+60*x(7)*x(3)^2*x(4)*x(6)+60*x(7)*x(3)^2*x(4)*x(7)+60*x(7)*x(3)^2*x(4)*x(8)+30*x(7)*x(3)^2*x(5)^2+60*x(7)*x(3)^2*x(5)*x(6)+60*x(7)*x(3)^2*x(5)*x(7)+60*x(7)*x(3)^2*x(5)*x(8)+30*x(7)*x(3)^2*x(6)^2+60*x(7)*x(3)^2*x(6)*x(7)+60*x(7)*x(3)^2*x(6)*x(8)+30*x(7)*x(3)^2*x(7)^2+60*x(7)*x(3)^2*x(7)*x(8)+30*x(7)*x(3)^2*x(8)^2+20*x(7)*x(3)*x(4)^3+60*x(7)*x(3)*x(4)^2*x(5)+60*x(7)*x(3)*x(4)^2*x(6)+60*x(7)*x(3)*x(4)^2*x(7)+60*x(7)*x(3)*x(4)^2*x(8)+60*x(7)*x(3)*x(4)*x(5)^2+120*x(7)*x(3)*x(4)*x(5)*x(6)+120*x(7)*x(3)*x(4)*x(5)*x(7)+120*x(7)*x(3)*x(4)*x(5)*x(8)+60*x(7)*x(3)*x(4)*x(6)^2+120*x(7)*x(3)*x(4)*x(6)*x(7)+120*x(7)*x(3)*x(4)*x(6)*x(8)+60*x(7)*x(3)*x(4)*x(7)^2+120*x(7)*x(3)*x(4)*x(7)*x(8)+60*x(7)*x(3)*x(4)*x(8)^2+20*x(7)*x(3)*x(5)^3+60*x(7)*x(3)*x(5)^2*x(6)+60*x(7)*x(3)*x(5)^2*x(7)+60*x(7)*x(3)*x(5)^2*x(8)+60*x(7)*x(3)*x(5)*x(6)^2+120*x(7)*x(3)*x(5)*x(6)*x(7)+120*x(7)*x(3)*x(5)*x(6)*x(8)+60*x(7)*x(3)*x(5)*x(7)^2+120*x(7)*x(3)*x(5)*x(7)*x(8)+60*x(7)*x(3)*x(5)*x(8)^2+20*x(7)*x(3)*x(6)^3+60*x(7)*x(3)*x(6)^2*x(7)+60*x(7)*x(3)*x(6)^2*x(8)+60*x(7)*x(3)*x(6)*x(7)^2+120*x(7)*x(3)*x(6)*x(7)*x(8)+60*x(7)*x(3)*x(6)*x(8)^2+20*x(7)*x(3)*x(7)^3+60*x(7)*x(3)*x(7)^2*x(8)+60*x(7)*x(3)*x(7)*x(8)^2+20*x(7)*x(3)*x(8)^3+5*x(7)*x(4)^4+20*x(7)*x(4)^3*x(5)+20*x(7)*x(4)^3*x(6)+20*x(7)*x(4)^3*x(7)+20*x(7)*x(4)^3*x(8)+30*x(7)*x(4)^2*x(5)^2+60*x(7)*x(4)^2*x(5)*x(6)+60*x(7)*x(4)^2*x(5)*x(7)+60*x(7)*x(4)^2*x(5)*x(8)+30*x(7)*x(4)^2*x(6)^2+60*x(7)*x(4)^2*x(6)*x(7)+60*x(7)*x(4)^2*x(6)*x(8)+30*x(7)*x(4)^2*x(7)^2+60*x(7)*x(4)^2*x(7)*x(8)+30*x(7)*x(4)^2*x(8)^2+20*x(7)*x(4)*x(5)^3+60*x(7)*x(4)*x(5)^2*x(6)+60*x(7)*x(4)*x(5)^2*x(7)+60*x(7)*x(4)*x(5)^2*x(8)+60*x(7)*x(4)*x(5)*x(6)^2+120*x(7)*x(4)*x(5)*x(6)*x(7)+120*x(7)*x(4)*x(5)*x(6)*x(8)+60*x(7)*x(4)*x(5)*x(7)^2+120*x(7)*x(4)*x(5)*x(7)*x(8)+60*x(7)*x(4)*x(5)*x(8)^2+20*x(7)*x(4)*x(6)^3+60*x(7)*x(4)*x(6)^2*x(7)+60*x(7)*x(4)*x(6)^2*x(8)+60*x(7)*x(4)*x(6)*x(7)^2+120*x(7)*x(4)*x(6)*x(7)*x(8)+60*x(7)*x(4)*x(6)*x(8)^2+20*x(7)*x(4)*x(7)^3+60*x(7)*x(4)*x(7)^2*x(8)+60*x(7)*x(4)*x(7)*x(8)^2+20*x(7)*x(4)*x(8)^3+5*x(7)*x(5)^4+20*x(7)*x(5)^3*x(6)+20*x(7)*x(5)^3*x(7)+20*x(7)*x(5)^3*x(8)+30*x(7)*x(5)^2*x(6)^2+60*x(7)*x(5)^2*x(6)*x(7)+60*x(7)*x(5)^2*x(6)*x(8)+30*x(7)*x(5)^2*x(7)^2+60*x(7)*x(5)^2*x(7)*x(8)+30*x(7)*x(5)^2*x(8)^2+20*x(7)*x(5)*x(6)^3+60*x(7)*x(5)*x(6)^2*x(7)+60*x(7)*x(5)*x(6)^2*x(8)+60*x(7)*x(5)*x(6)*x(7)^2+120*x(7)*x(5)*x(6)*x(7)*x(8)+60*x(7)*x(5)*x(6)*x(8)^2+20*x(7)*x(5)*x(7)^3+60*x(7)*x(5)*x(7)^2*x(8)+60*x(7)*x(5)*x(7)*x(8)^2+20*x(7)*x(5)*x(8)^3+5*x(7)*x(6)^4+20*x(7)*x(6)^3*x(7)+20*x(7)*x(6)^3*x(8)+30*x(7)*x(6)^2*x(7)^2+60*x(7)*x(6)^2*x(7)*x(8)+30*x(7)*x(6)^2*x(8)^2+20*x(7)*x(6)*x(7)^3+60*x(7)*x(6)*x(7)^2*x(8)+60*x(7)*x(6)*x(7)*x(8)^2+20*x(7)*x(6)*x(8)^3+5*x(7)*x(7)^4+20*x(7)*x(7)^3*x(8)+30*x(7)*x(7)^2*x(8)^2+20*x(7)*x(7)*x(8)^3+5*x(7)*x(8)^4+5*x(6)*x(4)^4+20*x(6)*x(4)^3*x(5)+20*x(6)*x(4)^3*x(6)+20*x(6)*x(4)^3*x(7)+20*x(6)*x(4)^3*x(8)+30*x(6)*x(4)^2*x(5)^2+60*x(6)*x(4)^2*x(5)*x(6)+60*x(6)*x(4)^2*x(5)*x(7)+60*x(6)*x(4)^2*x(5)*x(8)+30*x(6)*x(4)^2*x(6)^2+60*x(6)*x(4)^2*x(6)*x(7)+60*x(6)*x(4)^2*x(6)*x(8)+30*x(6)*x(4)^2*x(7)^2+60*x(6)*x(4)^2*x(7)*x(8)+30*x(6)*x(4)^2*x(8)^2+20*x(6)*x(4)*x(5)^3+60*x(6)*x(4)*x(5)^2*x(6)+60*x(6)*x(4)*x(5)^2*x(7)+60*x(6)*x(4)*x(5)^2*x(8)+60*x(6)*x(4)*x(5)*x(6)^2+120*x(6)*x(4)*x(5)*x(6)*x(7)+120*x(6)*x(4)*x(5)*x(6)*x(8)+60*x(6)*x(4)*x(5)*x(7)^2+120*x(6)*x(4)*x(5)*x(7)*x(8)+60*x(6)*x(4)*x(5)*x(8)^2+20*x(6)*x(4)*x(6)^3+60*x(6)*x(4)*x(6)^2*x(7)+60*x(6)*x(4)*x(6)^2*x(8)+60*x(6)*x(4)*x(6)*x(7)^2+120*x(6)*x(4)*x(6)*x(7)*x(8)+60*x(6)*x(4)*x(6)*x(8)^2+20*x(6)*x(4)*x(7)^3+60*x(6)*x(4)*x(7)^2*x(8)+60*x(6)*x(4)*x(7)*x(8)^2+20*x(6)*x(4)*x(8)^3+5*x(6)*x(5)^4+20*x(6)*x(5)^3*x(6)+20*x(6)*x(5)^3*x(7)+20*x(6)*x(5)^3*x(8)+30*x(6)*x(5)^2*x(6)^2+60*x(6)*x(5)^2*x(6)*x(7)+60*x(6)*x(5)^2*x(6)*x(8)+30*x(6)*x(5)^2*x(7)^2+60*x(6)*x(5)^2*x(7)*x(8)+30*x(6)*x(5)^2*x(8)^2+20*x(6)*x(5)*x(6)^3+60*x(6)*x(5)*x(6)^2*x(7)+60*x(6)*x(5)*x(6)^2*x(8)+60*x(6)*x(5)*x(6)*x(7)^2+120*x(6)*x(5)*x(6)*x(7)*x(8)+60*x(6)*x(5)*x(6)*x(8)^2+20*x(6)*x(5)*x(7)^3+60*x(6)*x(5)*x(7)^2*x(8)+60*x(6)*x(5)*x(7)*x(8)^2+20*x(6)*x(5)*x(8)^3+5*x(6)*x(6)^4+20*x(6)*x(6)^3*x(7)+20*x(6)*x(6)^3*x(8)+30*x(6)*x(6)^2*x(7)^2+60*x(6)*x(6)^2*x(7)*x(8)+30*x(6)*x(6)^2*x(8)^2+20*x(6)*x(6)*x(7)^3+60*x(6)*x(6)*x(7)^2*x(8)+60*x(6)*x(6)*x(7)*x(8)^2+20*x(6)*x(6)*x(8)^3+5*x(6)*x(7)^4+20*x(6)*x(7)^3*x(8)+30*x(6)*x(7)^2*x(8)^2+20*x(6)*x(7)*x(8)^3+5*x(6)*x(8)^4+5*x(5)*x(5)^4+20*x(5)*x(5)^3*x(6)+20*x(5)*x(5)^3*x(7)+20*x(5)*x(5)^3*x(8)+30*x(5)*x(5)^2*x(6)^2+60*x(5)*x(5)^2*x(6)*x(7)+60*x(5)*x(5)^2*x(6)*x(8)+30*x(5)*x(5)^2*x(7)^2+60*x(5)*x(5)^2*x(7)*x(8)+30*x(5)*x(5)^2*x(8)^2+20*x(5)*x(5)*x(6)^3+60*x(5)*x(5)*x(6)^2*x(7)+60*x(5)*x(5)*x(6)^2*x(8)+60*x(5)*x(5)*x(6)*x(7)^2+120*x(5)*x(5)*x(6)*x(7)*x(8)+60*x(5)*x(5)*x(6)*x(8)^2+20*x(5)*x(5)*x(7)^3+60*x(5)*x(5)*x(7)^2*x(8)+60*x(5)*x(5)*x(7)*x(8)^2+20*x(5)*x(5)*x(8)^3+5*x(5)*x(6)^4+20*x(5)*x(6)^3*x(7)+20*x(5)*x(6)^3*x(8)+30*x(5)*x(6)^2*x(7)^2+60*x(5)*x(6)^2*x(7)*x(8)+30*x(5)*x(6)^2*x(8)^2+20*x(5)*x(6)*x(7)^3+60*x(5)*x(6)*x(7)^2*x(8)+60*x(5)*x(6)*x(7)*x(8)^2+20*x(5)*x(6)*x(8)^3+5*x(5)*x(7)^4+20*x(5)*x(7)^3*x(8)+30*x(5)*x(7)^2*x(8)^2+20*x(5)*x(7)*x(8)^3+5*x(5)*x(8)^4+5*x(4)*x(6)^4+20*x(4)*x(6)^3*x(7)+20*x(4)*x(6)^3*x(8)+30*x(4)*x(6)^2*x(7)^2+60*x(4)*x(6)^2*x(7)*x(8)+30*x(4)*x(6)^2*x(8)^2+20*x(4)*x(6)*x(7)^3+60*x(4)*x(6)*x(7)^2*x(8)+60*x(4)*x(6)*x(7)*x(8)^2+20*x(4)*x(6)*x(8)^3+5*x(4)*x(7)^4+20*x(4)*x(7)^3*x(8)+30*x(4)*x(7)^2*x(8)^2+20*x(4)*x(7)*x(8)^3+5*x(4)*x(8)^4+5*x(3)*x(7)^4+20*x(3)*x(7)^3*x(8)+30*x(3)*x(7)^2*x(8)^2+20*x(3)*x(7)*x(8)^3+5*x(3)*x(8)^4+5*x(2)*x(8)^4-1\""
      ]
     },
     "execution_count": 10,
     "metadata": {},
     "output_type": "execute_result"
    }
   ],
   "source": [
    "eqs[[0,0,0,0,1]]"
   ]
  },
  {
   "cell_type": "code",
   "execution_count": 11,
   "metadata": {
    "collapsed": false
   },
   "outputs": [
    {
     "data": {
      "text/plain": [
       "\"    Z1_=x[2];\\n    Z2_=x[8];\\n    Z3_=x[3];\\n    Z4_=x[4];\\n    Z5_=x[5];\\n    Z6_=x[6];\\n    Z7_=x[7];\\n   Z8_=Z5_ + Z4_;\\n   Z9_=Z6_ + 3*Z8_;\\n   Z10_=5*Z6_;\\n   Z11_=Z9_*Z10_;\\n   Z12_=5*Z5_;\\n   Z13_=Z12_ + 6*Z4_;\\n   Z13_=Z13_*Z5_;\\n   Z14_=Z4_^2;\\n   Z15_=3*Z14_;\\n   Z16_=Z13_ + Z15_;\\n   Z11_=Z11_ + 3*Z16_;\\n   Z11_=Z11_*Z6_;\\n   Z17_=Z5_ + 2*Z4_;\\n   Z17_=Z17_*Z5_;\\n   Z17_=Z17_ + Z14_;\\n   Z18_=Z6_ + 2*Z8_;\\n   Z19_=Z18_*Z6_;\\n   Z19_=Z19_ + Z17_;\\n   Z20_=Z8_ + Z6_;\\n   Z21_=Z3_ + 3*Z20_;\\n   Z21_=Z21_*Z3_;\\n   Z21_=Z21_ + 3*Z19_;\\n   Z22_=2*Z3_;\\n   Z22_=Z21_*Z22_;\\n   Z14_=6*Z14_;\\n   Z13_=Z13_ + Z14_;\\n   Z13_=Z13_*Z5_;\\n   Z23_=Z4_^3;\\n   Z13_=Z13_ + 2*Z23_;\\n   Z11_=Z22_ + Z11_ + Z13_;\\n   Z22_=Z3_ + 2*Z20_;\\n   Z24_=3*Z3_;\\n   Z24_=Z22_*Z24_;\\n   Z18_=Z18_*Z10_;\\n   Z18_=Z24_ + Z18_ + Z16_;\\n   Z24_=5*Z7_;\\n   Z25_=Z3_ + Z20_;\\n   Z26_=4*Z25_ + Z7_;\\n   Z26_=Z26_*Z24_;\\n   Z26_=6*Z18_ + Z26_;\\n   Z26_=Z7_*Z26_;\\n   Z26_=4*Z11_ + Z26_;\\n   Z26_=Z7_*Z26_;\\n   Z27_=Z7_ + 3*Z25_;\\n   Z28_=Z27_*Z24_;\\n   Z28_=3*Z18_ + Z28_;\\n   Z28_=Z7_*Z28_;\\n   Z22_=Z22_*Z3_;\\n   Z22_=Z22_ + Z19_;\\n   Z29_=Z7_ + 2*Z25_;\\n   Z30_=Z29_*Z7_;\\n   Z30_=Z30_ + Z22_;\\n   Z31_=Z25_ + Z7_;\\n   Z32_=3*Z31_ + Z1_;\\n   Z32_=Z1_*Z32_;\\n   Z32_=3*Z30_ + Z32_;\\n   Z32_=Z1_*Z32_;\\n   Z28_=2*Z32_ + Z28_ + Z11_;\\n   Z29_=Z29_*Z24_;\\n   Z32_=2*Z31_ + Z1_;\\n   Z32_=Z1_*Z32_;\\n   Z29_=3*Z32_ + Z29_ + Z18_;\\n   Z32_=Z1_ + Z31_;\\n   Z32_=5*Z32_ + Z2_;\\n   Z32_=Z2_*Z32_;\\n   Z29_=2*Z29_ + Z32_;\\n   Z29_=Z2_*Z29_;\\n   Z28_=2*Z28_ + Z29_;\\n   Z28_=Z2_*Z28_;\\n   Z29_=Z5_ + 3*Z4_;\\n   Z29_=Z29_*Z5_;\\n   Z15_=Z29_ + Z15_;\\n   Z15_=Z15_*Z5_;\\n   Z9_=Z9_*Z6_;\\n   Z9_=Z9_ + 3*Z17_;\\n   Z9_=Z9_*Z6_;\\n   Z9_=Z15_ + Z9_ + Z23_;\\n   Z15_=Z3_ + 4*Z20_;\\n   Z15_=Z15_*Z3_;\\n   Z15_=Z15_ + 6*Z19_;\\n   Z15_=Z15_*Z3_;\\n   Z15_=Z15_ + 4*Z9_;\\n   Z15_=Z15_*Z3_;\\n   Z17_=Z6_ + 4*Z8_;\\n   Z17_=Z17_*Z10_;\\n   Z17_=Z17_ + 6*Z16_;\\n   Z17_=Z17_*Z6_;\\n   Z17_=Z17_ + 4*Z13_;\\n   Z17_=Z17_*Z6_;\\n   Z12_=Z12_ + 4*Z4_;\\n   Z12_=Z12_*Z5_;\\n   Z12_=Z12_ + Z14_;\\n   Z12_=Z12_*Z5_;\\n   Z12_=Z12_ + 4*Z23_;\\n   Z12_=Z12_*Z5_;\\n   Z14_=Z4_^4;\\n   Z12_=Z12_ + Z14_;\\n   Z14_=Z12_ + Z15_ + Z17_;\\n   Z15_=Z3_*Z21_;\\n   Z17_=Z7_*Z27_;\\n   Z17_=3*Z22_ + Z17_;\\n   Z17_=Z7_*Z17_;\\n   Z9_=Z17_ + Z15_ + Z9_;\\n   Z15_=4*Z31_ + Z1_;\\n   Z15_=Z1_*Z15_;\\n   Z15_=6*Z30_ + Z15_;\\n   Z15_=Z1_*Z15_;\\n   Z9_=4*Z9_ + Z15_;\\n   Z9_=Z1_*Z9_;\\n   Z9_=Z28_ + Z9_ + Z26_ + Z14_;\\n   Z9_=Z2_*Z9_;\\n   Z15_=Z5_^5;\\n   Z9_=Z15_ + Z9_;\\n   Z15_=5*Z25_ + Z7_;\\n   Z15_=Z7_*Z15_;\\n   Z15_=2*Z18_ + Z15_;\\n   Z15_=Z7_*Z15_;\\n   Z11_=2*Z11_ + Z15_;\\n   Z11_=Z7_*Z11_;\\n   Z11_=Z11_ + Z14_;\\n   Z11_=Z11_*Z24_;\\n   Z8_=5*Z8_ + Z6_;\\n   Z8_=Z6_*Z8_;\\n   Z8_=2*Z16_ + Z8_;\\n   Z8_=Z6_*Z8_;\\n   Z8_=2*Z13_ + Z8_;\\n   Z8_=Z6_*Z8_;\\n   Z8_=Z8_ + Z12_;\\n   Z8_=Z8_*Z10_;\\n   result=Z11_ + Z8_ - 1 + 5*Z9_;\\n\\n\\n\""
      ]
     },
     "execution_count": 11,
     "metadata": {},
     "output_type": "execute_result"
    }
   ],
   "source": [
    "eqs_optimized[[0,0,0,0,1]]"
   ]
  },
  {
   "cell_type": "code",
   "execution_count": 12,
   "metadata": {
    "collapsed": false
   },
   "outputs": [
    {
     "name": "stdout",
     "output_type": "stream",
     "text": [
      "    Z1_=x[2];\n",
      "    Z2_=x[8];\n",
      "    Z3_=x[3];\n",
      "    Z4_=x[4];\n",
      "    Z5_=x[5];\n",
      "    Z6_=x[6];\n",
      "    Z7_=x[7];\n",
      "   Z8_=Z5_ + Z4_;\n",
      "   Z9_=Z6_ + 3*Z8_;\n",
      "   Z10_=5*Z6_;\n",
      "   Z11_=Z9_*Z10_;\n",
      "   Z12_=5*Z5_;\n",
      "   Z13_=Z12_ + 6*Z4_;\n",
      "   Z13_=Z13_*Z5_;\n",
      "   Z14_=Z4_^2;\n",
      "   Z15_=3*Z14_;\n",
      "   Z16_=Z13_ + Z15_;\n",
      "   Z11_=Z11_ + 3*Z16_;\n",
      "   Z11_=Z11_*Z6_;\n",
      "   Z17_=Z5_ + 2*Z4_;\n",
      "   Z17_=Z17_*Z5_;\n",
      "   Z17_=Z17_ + Z14_;\n",
      "   Z18_=Z6_ + 2*Z8_;\n",
      "   Z19_=Z18_*Z6_;\n",
      "   Z19_=Z19_ + Z17_;\n",
      "   Z20_=Z8_ + Z6_;\n",
      "   Z21_=Z3_ + 3*Z20_;\n",
      "   Z21_=Z21_*Z3_;\n",
      "   Z21_=Z21_ + 3*Z19_;\n",
      "   Z22_=2*Z3_;\n",
      "   Z22_=Z21_*Z22_;\n",
      "   Z14_=6*Z14_;\n",
      "   Z13_=Z13_ + Z14_;\n",
      "   Z13_=Z13_*Z5_;\n",
      "   Z23_=Z4_^3;\n",
      "   Z13_=Z13_ + 2*Z23_;\n",
      "   Z11_=Z22_ + Z11_ + Z13_;\n",
      "   Z22_=Z3_ + 2*Z20_;\n",
      "   Z24_=3*Z3_;\n",
      "   Z24_=Z22_*Z24_;\n",
      "   Z18_=Z18_*Z10_;\n",
      "   Z18_=Z24_ + Z18_ + Z16_;\n",
      "   Z24_=5*Z7_;\n",
      "   Z25_=Z3_ + Z20_;\n",
      "   Z26_=4*Z25_ + Z7_;\n",
      "   Z26_=Z26_*Z24_;\n",
      "   Z26_=6*Z18_ + Z26_;\n",
      "   Z26_=Z7_*Z26_;\n",
      "   Z26_=4*Z11_ + Z26_;\n",
      "   Z26_=Z7_*Z26_;\n",
      "   Z27_=Z7_ + 3*Z25_;\n",
      "   Z28_=Z27_*Z24_;\n",
      "   Z28_=3*Z18_ + Z28_;\n",
      "   Z28_=Z7_*Z28_;\n",
      "   Z22_=Z22_*Z3_;\n",
      "   Z22_=Z22_ + Z19_;\n",
      "   Z29_=Z7_ + 2*Z25_;\n",
      "   Z30_=Z29_*Z7_;\n",
      "   Z30_=Z30_ + Z22_;\n",
      "   Z31_=Z25_ + Z7_;\n",
      "   Z32_=3*Z31_ + Z1_;\n",
      "   Z32_=Z1_*Z32_;\n",
      "   Z32_=3*Z30_ + Z32_;\n",
      "   Z32_=Z1_*Z32_;\n",
      "   Z28_=2*Z32_ + Z28_ + Z11_;\n",
      "   Z29_=Z29_*Z24_;\n",
      "   Z32_=2*Z31_ + Z1_;\n",
      "   Z32_=Z1_*Z32_;\n",
      "   Z29_=3*Z32_ + Z29_ + Z18_;\n",
      "   Z32_=Z1_ + Z31_;\n",
      "   Z32_=5*Z32_ + Z2_;\n",
      "   Z32_=Z2_*Z32_;\n",
      "   Z29_=2*Z29_ + Z32_;\n",
      "   Z29_=Z2_*Z29_;\n",
      "   Z28_=2*Z28_ + Z29_;\n",
      "   Z28_=Z2_*Z28_;\n",
      "   Z29_=Z5_ + 3*Z4_;\n",
      "   Z29_=Z29_*Z5_;\n",
      "   Z15_=Z29_ + Z15_;\n",
      "   Z15_=Z15_*Z5_;\n",
      "   Z9_=Z9_*Z6_;\n",
      "   Z9_=Z9_ + 3*Z17_;\n",
      "   Z9_=Z9_*Z6_;\n",
      "   Z9_=Z15_ + Z9_ + Z23_;\n",
      "   Z15_=Z3_ + 4*Z20_;\n",
      "   Z15_=Z15_*Z3_;\n",
      "   Z15_=Z15_ + 6*Z19_;\n",
      "   Z15_=Z15_*Z3_;\n",
      "   Z15_=Z15_ + 4*Z9_;\n",
      "   Z15_=Z15_*Z3_;\n",
      "   Z17_=Z6_ + 4*Z8_;\n",
      "   Z17_=Z17_*Z10_;\n",
      "   Z17_=Z17_ + 6*Z16_;\n",
      "   Z17_=Z17_*Z6_;\n",
      "   Z17_=Z17_ + 4*Z13_;\n",
      "   Z17_=Z17_*Z6_;\n",
      "   Z12_=Z12_ + 4*Z4_;\n",
      "   Z12_=Z12_*Z5_;\n",
      "   Z12_=Z12_ + Z14_;\n",
      "   Z12_=Z12_*Z5_;\n",
      "   Z12_=Z12_ + 4*Z23_;\n",
      "   Z12_=Z12_*Z5_;\n",
      "   Z14_=Z4_^4;\n",
      "   Z12_=Z12_ + Z14_;\n",
      "   Z14_=Z12_ + Z15_ + Z17_;\n",
      "   Z15_=Z3_*Z21_;\n",
      "   Z17_=Z7_*Z27_;\n",
      "   Z17_=3*Z22_ + Z17_;\n",
      "   Z17_=Z7_*Z17_;\n",
      "   Z9_=Z17_ + Z15_ + Z9_;\n",
      "   Z15_=4*Z31_ + Z1_;\n",
      "   Z15_=Z1_*Z15_;\n",
      "   Z15_=6*Z30_ + Z15_;\n",
      "   Z15_=Z1_*Z15_;\n",
      "   Z9_=4*Z9_ + Z15_;\n",
      "   Z9_=Z1_*Z9_;\n",
      "   Z9_=Z28_ + Z9_ + Z26_ + Z14_;\n",
      "   Z9_=Z2_*Z9_;\n",
      "   Z15_=Z5_^5;\n",
      "   Z9_=Z15_ + Z9_;\n",
      "   Z15_=5*Z25_ + Z7_;\n",
      "   Z15_=Z7_*Z15_;\n",
      "   Z15_=2*Z18_ + Z15_;\n",
      "   Z15_=Z7_*Z15_;\n",
      "   Z11_=2*Z11_ + Z15_;\n",
      "   Z11_=Z7_*Z11_;\n",
      "   Z11_=Z11_ + Z14_;\n",
      "   Z11_=Z11_*Z24_;\n",
      "   Z8_=5*Z8_ + Z6_;\n",
      "   Z8_=Z6_*Z8_;\n",
      "   Z8_=2*Z16_ + Z8_;\n",
      "   Z8_=Z6_*Z8_;\n",
      "   Z8_=2*Z13_ + Z8_;\n",
      "   Z8_=Z6_*Z8_;\n",
      "   Z8_=Z8_ + Z12_;\n",
      "   Z8_=Z8_*Z10_;\n",
      "   result=Z11_ + Z8_ - 1 + 5*Z9_;\n",
      "\n",
      "\n"
     ]
    }
   ],
   "source": [
    "print(eqs_optimized[[0,0,0,0,1]])"
   ]
  },
  {
   "cell_type": "code",
   "execution_count": null,
   "metadata": {
    "collapsed": true
   },
   "outputs": [],
   "source": []
  }
 ],
 "metadata": {
  "kernelspec": {
   "display_name": "Julia 0.4.5",
   "language": "julia",
   "name": "julia-0.4"
  },
  "language_info": {
   "file_extension": ".jl",
   "mimetype": "application/julia",
   "name": "julia",
   "version": "0.4.5"
  }
 },
 "nbformat": 4,
 "nbformat_minor": 0
}
