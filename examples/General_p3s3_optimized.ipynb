{
 "cells": [
  {
   "cell_type": "code",
   "execution_count": 1,
   "metadata": {
    "collapsed": false
   },
   "outputs": [
    {
     "name": "stderr",
     "output_type": "stream",
     "text": [
      "WARNING: Method definition factorial(#T<:Integer, #T<:Integer) in module Base at combinatorics.jl:56 overwritten in module Combinatorics at /home/hofi/.julia/v0.4/Combinatorics/src/factorials.jl:18.\n",
      "WARNING: Method definition factorial(Integer, Integer) in module Base at combinatorics.jl:66 overwritten in module Combinatorics at /home/hofi/.julia/v0.4/Combinatorics/src/factorials.jl:28.\n",
      "WARNING: Method definition combinations(Any, Integer) in module Base at combinatorics.jl:182 overwritten in module Combinatorics at /home/hofi/.julia/v0.4/Combinatorics/src/combinations.jl:42.\n",
      "WARNING: Method definition permutations(Any) in module Base at combinatorics.jl:219 overwritten in module Combinatorics at /home/hofi/.julia/v0.4/Combinatorics/src/permutations.jl:24.\n",
      "WARNING: Method definition nthperm!(AbstractArray{T<:Any, 1}, Integer) in module Base at combinatorics.jl:70 overwritten in module Combinatorics at /home/hofi/.julia/v0.4/Combinatorics/src/permutations.jl:136.\n",
      "WARNING: Method definition nthperm(AbstractArray{T<:Any, 1}, Integer) in module Base at combinatorics.jl:89 overwritten in module Combinatorics at /home/hofi/.julia/v0.4/Combinatorics/src/permutations.jl:157.\n",
      "WARNING: Method definition nthperm(AbstractArray{#T<:Integer, 1}) in module Base at combinatorics.jl:92 overwritten in module Combinatorics at /home/hofi/.julia/v0.4/Combinatorics/src/permutations.jl:161.\n",
      "WARNING: Method definition levicivita(AbstractArray{#T<:Integer, 1}) in module Base at combinatorics.jl:611 overwritten in module Combinatorics at /home/hofi/.julia/v0.4/Combinatorics/src/permutations.jl:188.\n",
      "WARNING: Method definition parity(AbstractArray{#T<:Integer, 1}) in module Base at combinatorics.jl:642 overwritten in module Combinatorics at /home/hofi/.julia/v0.4/Combinatorics/src/permutations.jl:221.\n",
      "WARNING: Method definition partitions(Integer) in module Base at combinatorics.jl:252 overwritten in module Combinatorics at /home/hofi/.julia/v0.4/Combinatorics/src/partitions.jl:26.\n",
      "WARNING: Method definition partitions(Integer, Integer) in module Base at combinatorics.jl:318 overwritten in module Combinatorics at /home/hofi/.julia/v0.4/Combinatorics/src/partitions.jl:93.\n",
      "WARNING: Method definition partitions(AbstractArray{T<:Any, 1}) in module Base at combinatorics.jl:380 overwritten in module Combinatorics at /home/hofi/.julia/v0.4/Combinatorics/src/partitions.jl:158.\n",
      "WARNING: Method definition partitions(AbstractArray{T<:Any, 1}, Int64) in module Base at combinatorics.jl:447 overwritten in module Combinatorics at /home/hofi/.julia/v0.4/Combinatorics/src/partitions.jl:228.\n",
      "WARNING: Method definition prevprod(Array{Int64, 1}, Any) in module Base at combinatorics.jl:565 overwritten in module Combinatorics at /home/hofi/.julia/v0.4/Combinatorics/src/partitions.jl:354.\n"
     ]
    }
   ],
   "source": [
    "using SplittingOrderConditions"
   ]
  },
  {
   "cell_type": "code",
   "execution_count": 244,
   "metadata": {
    "collapsed": false
   },
   "outputs": [
    {
     "name": "stdout",
     "output_type": "stream",
     "text": [
      "  0.000239 seconds (1.54 k allocations: 91.813 KB)\n"
     ]
    },
    {
     "data": {
      "text/plain": [
       "Dict{Array{Int64,1},AbstractString} with 5 entries:\n",
       "  [0,1]   => \"+2*b1*a2+2*b1*a3+2*b2*a3-1\"\n",
       "  [0]     => \"+1*a1+1*a2+1*a3-1\"\n",
       "  [0,0,1] => \"+3*b1*a2^2+6*b1*a2*a3+3*b1*a3^2+3*b2*a3^2-1\"\n",
       "  [0,1,1] => \"+3*b1^2*a2+3*b1^2*a3+6*b1*b2*a3+3*b2^2*a3-1\"\n",
       "  [1]     => \"+1*b1+1*b2+1*b3-1\""
      ]
     },
     "execution_count": 244,
     "metadata": {},
     "output_type": "execute_result"
    }
   ],
   "source": [
    "p,s = 3,3\n",
    "@time begin\n",
    "    eqs = generate_equations(1,s, with_brackets=false)\n",
    "    for q=2:p\n",
    "       merge!(eqs,generate_equations(q,s,  with_brackets=false)) \n",
    "    end\n",
    "end    \n",
    "eqs"
   ]
  },
  {
   "cell_type": "code",
   "execution_count": 3,
   "metadata": {
    "collapsed": false
   },
   "outputs": [
    {
     "name": "stderr",
     "output_type": "stream",
     "text": [
      "# of attemps to call form = 3457\n",
      "# of attemps to call form = 97\n",
      "# of attemps to call form = 919\n",
      "# of attemps to call form = 368\n",
      "# of attemps to call form = 489\n"
     ]
    },
    {
     "data": {
      "text/plain": [
       "5-element Array{Function,1}:\n",
       " (anonymous function)\n",
       " (anonymous function)\n",
       " (anonymous function)\n",
       " (anonymous function)\n",
       " (anonymous function)"
      ]
     },
     "execution_count": 3,
     "metadata": {},
     "output_type": "execute_result"
    }
   ],
   "source": [
    "vars = [\"a1\", \"a2\", \"a3\", \"b1\", \"b2\", \"b3\"]\n",
    "funs = Dict{Array{Int64,1},Function}()\n",
    "for lw in keys(eqs)\n",
    "    for k =1:length(vars)\n",
    "        eqs[lw] = replace(eqs[lw], vars[k], string(\"x(\",k,\")\"))        \n",
    "    end\n",
    "    funs[lw] = SplittingOrderConditions.compile_fg(eqs[lw], length(vars))\n",
    "end    \n",
    "funs=collect(values(funs))"
   ]
  },
  {
   "cell_type": "code",
   "execution_count": 4,
   "metadata": {
    "collapsed": false
   },
   "outputs": [
    {
     "name": "stderr",
     "output_type": "stream",
     "text": [
      "# of attemps to call form = 86\n"
     ]
    },
    {
     "data": {
      "text/plain": [
       "(anonymous function)"
      ]
     },
     "execution_count": 4,
     "metadata": {},
     "output_type": "execute_result"
    }
   ],
   "source": [
    "eqs_lem = generate_equations(p+1,s, with_brackets=false)\n",
    "for lw in keys(eqs_lem)\n",
    "    for k =1:length(vars)\n",
    "        eqs_lem[lw] = replace(eqs_lem[lw], vars[k], string(\"x(\",k,\")\"))        \n",
    "    end    \n",
    "end\n",
    "lem_eq = join([string(\"(\",eq,\")^2\") for eq in values(eqs_lem)], :+)\n",
    "lem = SplittingOrderConditions.compile_fg(lem_eq, length(vars))"
   ]
  },
  {
   "cell_type": "code",
   "execution_count": 5,
   "metadata": {
    "collapsed": false
   },
   "outputs": [],
   "source": [
    "using NLopt"
   ]
  },
  {
   "cell_type": "code",
   "execution_count": 16,
   "metadata": {
    "collapsed": false
   },
   "outputs": [],
   "source": [
    "#opt = Opt(:LD_MMA, 2*s)\n",
    "opt = Opt(:GN_ISRES, 2*s)\n",
    "lower_bounds!(opt, -2.0*ones(2*s))\n",
    "upper_bounds!(opt, +2.0*ones(2*s))\n",
    "xtol_rel!(opt,1e-4)"
   ]
  },
  {
   "cell_type": "code",
   "execution_count": 17,
   "metadata": {
    "collapsed": true
   },
   "outputs": [],
   "source": [
    "min_objective!(opt, lem)"
   ]
  },
  {
   "cell_type": "code",
   "execution_count": 19,
   "metadata": {
    "collapsed": false
   },
   "outputs": [],
   "source": [
    "for f in funs\n",
    "    equality_constraint!(opt, f, 1e-8)\n",
    "end"
   ]
  },
  {
   "cell_type": "code",
   "execution_count": 21,
   "metadata": {
    "collapsed": false
   },
   "outputs": [
    {
     "ename": "LoadError",
     "evalue": "LoadError: InterruptException:\nwhile loading In[21], in expression starting on line 1",
     "output_type": "error",
     "traceback": [
      "LoadError: InterruptException:\nwhile loading In[21], in expression starting on line 1",
      "",
      " in optimize! at /home/hofi/.julia/v0.4/NLopt/src/NLopt.jl:526",
      " in optimize at /home/hofi/.julia/v0.4/NLopt/src/NLopt.jl:532"
     ]
    }
   ],
   "source": [
    "(minf,minx,ret) = optimize(opt, rand(2s))"
   ]
  },
  {
   "cell_type": "code",
   "execution_count": 27,
   "metadata": {
    "collapsed": false
   },
   "outputs": [
    {
     "data": {
      "text/plain": [
       "\"+3*b1^2*a2+3*b1^2*a3+6*b1*b2*a3+3*b2^2*a3-1\""
      ]
     },
     "execution_count": 27,
     "metadata": {},
     "output_type": "execute_result"
    }
   ],
   "source": [
    "eq=eqs[[0,1,1]]"
   ]
  },
  {
   "cell_type": "code",
   "execution_count": 28,
   "metadata": {
    "collapsed": false
   },
   "outputs": [
    {
     "data": {
      "text/plain": [
       "\"+3*b1^2*a2+3*b1^2*a3+6*b1*b2*a3+3*b2^2*a3-1\""
      ]
     },
     "execution_count": 28,
     "metadata": {},
     "output_type": "execute_result"
    }
   ],
   "source": [
    "eq"
   ]
  },
  {
   "cell_type": "code",
   "execution_count": 293,
   "metadata": {
    "collapsed": false
   },
   "outputs": [
    {
     "data": {
      "text/plain": [
       "differentiate (generic function with 1 method)"
      ]
     },
     "execution_count": 293,
     "metadata": {},
     "output_type": "execute_result"
    }
   ],
   "source": [
    "function differentiate(eq, var)\n",
    "    eq1=\"\"\n",
    "    terms = split(eq,['+','-'], keep=false)\n",
    "    signs = [m.match for m in collect(eachmatch(r\"[\\+-]\",eq))]\n",
    "    for t in terms\n",
    "        s = split(t,'*')        \n",
    "        c = s[1]\n",
    "        facs = Dict([ contains(f,\"^\") ? (split(f,\"^\")...) : (f, \"1\")   for f in s[2:end]])\n",
    "        if var in keys(facs)\n",
    "            e = parse(facs[var])\n",
    "            c = string(parse(c)*e)\n",
    "            if e==1\n",
    "                delete!(facs, var)\n",
    "            else    \n",
    "                facs[var] = string(e-1)\n",
    "            end\n",
    "            eq1 = string(eq1, \"+\", join(vcat(c,[e==\"1\" ? v : string(v,\"^\",e ) for (v,e) in facs]), '*'))\n",
    "        end       \n",
    "    end\n",
    "    if eq1==\"\"\n",
    "        eq1=\"0\"\n",
    "    end\n",
    "    eq1\n",
    "end"
   ]
  },
  {
   "cell_type": "code",
   "execution_count": 294,
   "metadata": {
    "collapsed": false
   },
   "outputs": [
    {
     "name": "stdout",
     "output_type": "stream",
     "text": [
      "  0.000233 seconds (1.54 k allocations: 91.813 KB)\n"
     ]
    },
    {
     "data": {
      "text/plain": [
       "5-element Array{AbstractString,1}:\n",
       " \"+2*b1*a2+2*b1*a3+2*b2*a3-1\"                 \n",
       " \"+1*a1+1*a2+1*a3-1\"                          \n",
       " \"+3*b1*a2^2+6*b1*a2*a3+3*b1*a3^2+3*b2*a3^2-1\"\n",
       " \"+3*b1^2*a2+3*b1^2*a3+6*b1*b2*a3+3*b2^2*a3-1\"\n",
       " \"+1*b1+1*b2+1*b3-1\"                          "
      ]
     },
     "execution_count": 294,
     "metadata": {},
     "output_type": "execute_result"
    }
   ],
   "source": [
    "p,s = 3,3\n",
    "@time begin\n",
    "    eqs = generate_equations(1,s, with_brackets=false)\n",
    "    for q=2:p\n",
    "       merge!(eqs,generate_equations(q,s,  with_brackets=false)) \n",
    "    end\n",
    "end    \n",
    "eqs=collect(values(eqs))"
   ]
  },
  {
   "cell_type": "code",
   "execution_count": 296,
   "metadata": {
    "collapsed": false
   },
   "outputs": [
    {
     "data": {
      "text/plain": [
       "\"(+4*b1^3*a2+4*b1^3*a3+12*b1^2*b2*a3+12*b1*b2^2*a3+4*b2^3*a3-1)^2+(+4*b1*a2^3+12*b1*a2^2*a3+12*b1*a2*a3^2+4*b1*a3^3+4*b2*a3^3-1)^2+(+6*b1^2*a2^2+12*b1^2*a2*a3+6*b1^2*a3^2+12*b1*b2*a3^2+6*b2^2*a3^2-1)^2\""
      ]
     },
     "execution_count": 296,
     "metadata": {},
     "output_type": "execute_result"
    }
   ],
   "source": [
    "eqs_lem = collect(values(generate_equations(p+1,s, with_brackets=false)))\n",
    "lem_eq = join([string(\"(\",eq,\")^2\") for eq in eqs_lem], :+)"
   ]
  },
  {
   "cell_type": "code",
   "execution_count": 297,
   "metadata": {
    "collapsed": false
   },
   "outputs": [
    {
     "data": {
      "text/plain": [
       "11-element Array{Any,1}:\n",
       " \"+2*b1*a2+2*b1*a3+2*b2*a3-1\"                                                                                                                                                                                                                                                                                                                                                                                                              \n",
       " \"+1*a1+1*a2+1*a3-1\"                                                                                                                                                                                                                                                                                                                                                                                                                       \n",
       " \"+3*b1*a2^2+6*b1*a2*a3+3*b1*a3^2+3*b2*a3^2-1\"                                                                                                                                                                                                                                                                                                                                                                                             \n",
       " \"+3*b1^2*a2+3*b1^2*a3+6*b1*b2*a3+3*b2^2*a3-1\"                                                                                                                                                                                                                                                                                                                                                                                             \n",
       " \"+1*b1+1*b2+1*b3-1\"                                                                                                                                                                                                                                                                                                                                                                                                                       \n",
       " \"2*(+4*b1^3*a2+4*b1^3*a3+12*b1^2*b2*a3+12*b1*b2^2*a3+4*b2^3*a3-1)*(0)+2*(+4*b1*a2^3+12*b1*a2^2*a3+12*b1*a2*a3^2+4*b1*a3^3+4*b2*a3^3-1)*(0)+2*(+6*b1^2*a2^2+12*b1^2*a2*a3+6*b1^2*a3^2+12*b1*b2*a3^2+6*b2^2*a3^2-1)*(0)+l1*(0)+l2*(+1)+l3*(0)+l4*(0)+l5*(0)\"                                                                                                                                                                                \n",
       " \"2*(+4*b1^3*a2+4*b1^3*a3+12*b1^2*b2*a3+12*b1*b2^2*a3+4*b2^3*a3-1)*(+4*b1^3)+2*(+4*b1*a2^3+12*b1*a2^2*a3+12*b1*a2*a3^2+4*b1*a3^3+4*b2*a3^3-1)*(+12*a2^2*b1+24*a3*a2*b1+12*a3^2*b1)+2*(+6*b1^2*a2^2+12*b1^2*a2*a3+6*b1^2*a3^2+12*b1*b2*a3^2+6*b2^2*a3^2-1)*(+12*a2*b1^2+12*a3*b1^2)+l1*(+2*b1)+l2*(+1)+l3*(+6*a2*b1+6*a3*b1)+l4*(+3*b1^2)+l5*(0)\"                                                                                           \n",
       " \"2*(+4*b1^3*a2+4*b1^3*a3+12*b1^2*b2*a3+12*b1*b2^2*a3+4*b2^3*a3-1)*(+4*b1^3+12*b2*b1^2+12*b2^2*b1+4*b2^3)+2*(+4*b1*a2^3+12*b1*a2^2*a3+12*b1*a2*a3^2+4*b1*a3^3+4*b2*a3^3-1)*(+12*a2^2*b1+24*a3*a2*b1+12*a3^2*b1+12*a3^2*b2)+2*(+6*b1^2*a2^2+12*b1^2*a2*a3+6*b1^2*a3^2+12*b1*b2*a3^2+6*b2^2*a3^2-1)*(+12*a2*b1^2+12*a3*b1^2+24*a3*b2*b1+12*a3*b2^2)+l1*(+2*b1+2*b2)+l2*(+1)+l3*(+6*a2*b1+6*a3*b1+6*a3*b2)+l4*(+3*b1^2+6*b2*b1+3*b2^2)+l5*(0)\"\n",
       " \"2*(+4*b1^3*a2+4*b1^3*a3+12*b1^2*b2*a3+12*b1*b2^2*a3+4*b2^3*a3-1)*(+12*a2*b1^2+12*a3*b1^2+24*a3*b2*b1+12*a3*b2^2)+2*(+4*b1*a2^3+12*b1*a2^2*a3+12*b1*a2*a3^2+4*b1*a3^3+4*b2*a3^3-1)*(+4*a2^3+12*a3*a2^2+12*a3^2*a2+4*a3^3)+2*(+6*b1^2*a2^2+12*b1^2*a2*a3+6*b1^2*a3^2+12*b1*b2*a3^2+6*b2^2*a3^2-1)*(+12*a2^2*b1+24*a3*a2*b1+12*a3^2*b1+12*a3^2*b2)+l1*(+2*a2+2*a3)+l2*(0)+l3*(+3*a2^2+6*a3*a2+3*a3^2)+l4*(+6*a2*b1+6*a3*b1+6*a3*b2)+l5*(+1)\"\n",
       " \"2*(+4*b1^3*a2+4*b1^3*a3+12*b1^2*b2*a3+12*b1*b2^2*a3+4*b2^3*a3-1)*(+12*a3*b1^2+24*a3*b2*b1+12*a3*b2^2)+2*(+4*b1*a2^3+12*b1*a2^2*a3+12*b1*a2*a3^2+4*b1*a3^3+4*b2*a3^3-1)*(+4*a3^3)+2*(+6*b1^2*a2^2+12*b1^2*a2*a3+6*b1^2*a3^2+12*b1*b2*a3^2+6*b2^2*a3^2-1)*(+12*a3^2*b1+12*a3^2*b2)+l1*(+2*a3)+l2*(0)+l3*(+3*a3^2)+l4*(+6*a3*b1+6*a3*b2)+l5*(+1)\"                                                                                           \n",
       " \"2*(+4*b1^3*a2+4*b1^3*a3+12*b1^2*b2*a3+12*b1*b2^2*a3+4*b2^3*a3-1)*(0)+2*(+4*b1*a2^3+12*b1*a2^2*a3+12*b1*a2*a3^2+4*b1*a3^3+4*b2*a3^3-1)*(0)+2*(+6*b1^2*a2^2+12*b1^2*a2*a3+6*b1^2*a3^2+12*b1*b2*a3^2+6*b2^2*a3^2-1)*(0)+l1*(0)+l2*(0)+l3*(0)+l4*(0)+l5*(+1)\"                                                                                                                                                                                "
      ]
     },
     "execution_count": 297,
     "metadata": {},
     "output_type": "execute_result"
    }
   ],
   "source": [
    "vcat(eqs,\n",
    "[join(vcat([string(\"2*(\",eq,\")*(\",differentiate(eq,var),\")\") for eq in eqs_lem],\n",
    "    [string(\"l\", j, \"*(\", differentiate(eqs[j],var),\")\") for j=1:length(eqs)]),:+) for var in vars]\n",
    ")\n"
   ]
  },
  {
   "cell_type": "code",
   "execution_count": 251,
   "metadata": {
    "collapsed": false
   },
   "outputs": [
    {
     "data": {
      "text/plain": [
       "6-element Array{ASCIIString,1}:\n",
       " \"a1\"\n",
       " \"a2\"\n",
       " \"a3\"\n",
       " \"b1\"\n",
       " \"b2\"\n",
       " \"b3\""
      ]
     },
     "execution_count": 251,
     "metadata": {},
     "output_type": "execute_result"
    }
   ],
   "source": [
    "vars"
   ]
  },
  {
   "cell_type": "code",
   "execution_count": null,
   "metadata": {
    "collapsed": true
   },
   "outputs": [],
   "source": []
  }
 ],
 "metadata": {
  "kernelspec": {
   "display_name": "Julia 0.4.5",
   "language": "julia",
   "name": "julia-0.4"
  },
  "language_info": {
   "file_extension": ".jl",
   "mimetype": "application/julia",
   "name": "julia",
   "version": "0.4.5"
  }
 },
 "nbformat": 4,
 "nbformat_minor": 0
}
