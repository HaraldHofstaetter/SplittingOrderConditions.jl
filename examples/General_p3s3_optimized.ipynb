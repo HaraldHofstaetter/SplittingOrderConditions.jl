{
 "cells": [
  {
   "cell_type": "code",
   "execution_count": 1,
   "metadata": {
    "collapsed": false
   },
   "outputs": [
    {
     "name": "stderr",
     "output_type": "stream",
     "text": [
      "WARNING: Method definition factorial(#T<:Integer, #T<:Integer) in module Base at combinatorics.jl:56 overwritten in module Combinatorics at /home/hofi/.julia/v0.4/Combinatorics/src/factorials.jl:18.\n",
      "WARNING: Method definition factorial(Integer, Integer) in module Base at combinatorics.jl:66 overwritten in module Combinatorics at /home/hofi/.julia/v0.4/Combinatorics/src/factorials.jl:28.\n",
      "WARNING: Method definition combinations(Any, Integer) in module Base at combinatorics.jl:182 overwritten in module Combinatorics at /home/hofi/.julia/v0.4/Combinatorics/src/combinations.jl:42.\n",
      "WARNING: Method definition permutations(Any) in module Base at combinatorics.jl:219 overwritten in module Combinatorics at /home/hofi/.julia/v0.4/Combinatorics/src/permutations.jl:24.\n",
      "WARNING: Method definition nthperm!(AbstractArray{T<:Any, 1}, Integer) in module Base at combinatorics.jl:70 overwritten in module Combinatorics at /home/hofi/.julia/v0.4/Combinatorics/src/permutations.jl:136.\n",
      "WARNING: Method definition nthperm(AbstractArray{T<:Any, 1}, Integer) in module Base at combinatorics.jl:89 overwritten in module Combinatorics at /home/hofi/.julia/v0.4/Combinatorics/src/permutations.jl:157.\n",
      "WARNING: Method definition nthperm(AbstractArray{#T<:Integer, 1}) in module Base at combinatorics.jl:92 overwritten in module Combinatorics at /home/hofi/.julia/v0.4/Combinatorics/src/permutations.jl:161.\n",
      "WARNING: Method definition levicivita(AbstractArray{#T<:Integer, 1}) in module Base at combinatorics.jl:611 overwritten in module Combinatorics at /home/hofi/.julia/v0.4/Combinatorics/src/permutations.jl:188.\n",
      "WARNING: Method definition parity(AbstractArray{#T<:Integer, 1}) in module Base at combinatorics.jl:642 overwritten in module Combinatorics at /home/hofi/.julia/v0.4/Combinatorics/src/permutations.jl:221.\n",
      "WARNING: Method definition partitions(Integer) in module Base at combinatorics.jl:252 overwritten in module Combinatorics at /home/hofi/.julia/v0.4/Combinatorics/src/partitions.jl:26.\n",
      "WARNING: Method definition partitions(Integer, Integer) in module Base at combinatorics.jl:318 overwritten in module Combinatorics at /home/hofi/.julia/v0.4/Combinatorics/src/partitions.jl:93.\n",
      "WARNING: Method definition partitions(AbstractArray{T<:Any, 1}) in module Base at combinatorics.jl:380 overwritten in module Combinatorics at /home/hofi/.julia/v0.4/Combinatorics/src/partitions.jl:158.\n",
      "WARNING: Method definition partitions(AbstractArray{T<:Any, 1}, Int64) in module Base at combinatorics.jl:447 overwritten in module Combinatorics at /home/hofi/.julia/v0.4/Combinatorics/src/partitions.jl:228.\n",
      "WARNING: Method definition prevprod(Array{Int64, 1}, Any) in module Base at combinatorics.jl:565 overwritten in module Combinatorics at /home/hofi/.julia/v0.4/Combinatorics/src/partitions.jl:354.\n"
     ]
    }
   ],
   "source": [
    "using SplittingOrderConditions"
   ]
  },
  {
   "cell_type": "code",
   "execution_count": 244,
   "metadata": {
    "collapsed": false
   },
   "outputs": [
    {
     "name": "stdout",
     "output_type": "stream",
     "text": [
      "  0.000239 seconds (1.54 k allocations: 91.813 KB)\n"
     ]
    },
    {
     "data": {
      "text/plain": [
       "Dict{Array{Int64,1},AbstractString} with 5 entries:\n",
       "  [0,1]   => \"+2*b1*a2+2*b1*a3+2*b2*a3-1\"\n",
       "  [0]     => \"+1*a1+1*a2+1*a3-1\"\n",
       "  [0,0,1] => \"+3*b1*a2^2+6*b1*a2*a3+3*b1*a3^2+3*b2*a3^2-1\"\n",
       "  [0,1,1] => \"+3*b1^2*a2+3*b1^2*a3+6*b1*b2*a3+3*b2^2*a3-1\"\n",
       "  [1]     => \"+1*b1+1*b2+1*b3-1\""
      ]
     },
     "execution_count": 244,
     "metadata": {},
     "output_type": "execute_result"
    }
   ],
   "source": [
    "p,s = 3,3\n",
    "@time begin\n",
    "    eqs = generate_equations(1,s, with_brackets=false)\n",
    "    for q=2:p\n",
    "       merge!(eqs,generate_equations(q,s,  with_brackets=false)) \n",
    "    end\n",
    "end    \n",
    "eqs"
   ]
  },
  {
   "cell_type": "code",
   "execution_count": 3,
   "metadata": {
    "collapsed": false
   },
   "outputs": [
    {
     "name": "stderr",
     "output_type": "stream",
     "text": [
      "# of attemps to call form = 3457\n",
      "# of attemps to call form = 97\n",
      "# of attemps to call form = 919\n",
      "# of attemps to call form = 368\n",
      "# of attemps to call form = 489\n"
     ]
    },
    {
     "data": {
      "text/plain": [
       "5-element Array{Function,1}:\n",
       " (anonymous function)\n",
       " (anonymous function)\n",
       " (anonymous function)\n",
       " (anonymous function)\n",
       " (anonymous function)"
      ]
     },
     "execution_count": 3,
     "metadata": {},
     "output_type": "execute_result"
    }
   ],
   "source": [
    "vars = [\"a1\", \"a2\", \"a3\", \"b1\", \"b2\", \"b3\"]\n",
    "funs = Dict{Array{Int64,1},Function}()\n",
    "for lw in keys(eqs)\n",
    "    for k =1:length(vars)\n",
    "        eqs[lw] = replace(eqs[lw], vars[k], string(\"x(\",k,\")\"))        \n",
    "    end\n",
    "    funs[lw] = SplittingOrderConditions.compile_fg(eqs[lw], length(vars))\n",
    "end    \n",
    "funs=collect(values(funs))"
   ]
  },
  {
   "cell_type": "code",
   "execution_count": 4,
   "metadata": {
    "collapsed": false
   },
   "outputs": [
    {
     "name": "stderr",
     "output_type": "stream",
     "text": [
      "# of attemps to call form = 86\n"
     ]
    },
    {
     "data": {
      "text/plain": [
       "(anonymous function)"
      ]
     },
     "execution_count": 4,
     "metadata": {},
     "output_type": "execute_result"
    }
   ],
   "source": [
    "eqs_lem = generate_equations(p+1,s, with_brackets=false)\n",
    "for lw in keys(eqs_lem)\n",
    "    for k =1:length(vars)\n",
    "        eqs_lem[lw] = replace(eqs_lem[lw], vars[k], string(\"x(\",k,\")\"))        \n",
    "    end    \n",
    "end\n",
    "lem_eq = join([string(\"(\",eq,\")^2\") for eq in values(eqs_lem)], :+)\n",
    "lem = SplittingOrderConditions.compile_fg(lem_eq, length(vars))"
   ]
  },
  {
   "cell_type": "code",
   "execution_count": 5,
   "metadata": {
    "collapsed": false
   },
   "outputs": [],
   "source": [
    "using NLopt"
   ]
  },
  {
   "cell_type": "code",
   "execution_count": 16,
   "metadata": {
    "collapsed": false
   },
   "outputs": [],
   "source": [
    "#opt = Opt(:LD_MMA, 2*s)\n",
    "opt = Opt(:GN_ISRES, 2*s)\n",
    "lower_bounds!(opt, -2.0*ones(2*s))\n",
    "upper_bounds!(opt, +2.0*ones(2*s))\n",
    "xtol_rel!(opt,1e-4)"
   ]
  },
  {
   "cell_type": "code",
   "execution_count": 17,
   "metadata": {
    "collapsed": true
   },
   "outputs": [],
   "source": [
    "min_objective!(opt, lem)"
   ]
  },
  {
   "cell_type": "code",
   "execution_count": 19,
   "metadata": {
    "collapsed": false
   },
   "outputs": [],
   "source": [
    "for f in funs\n",
    "    equality_constraint!(opt, f, 1e-8)\n",
    "end"
   ]
  },
  {
   "cell_type": "code",
   "execution_count": 21,
   "metadata": {
    "collapsed": false
   },
   "outputs": [
    {
     "ename": "LoadError",
     "evalue": "LoadError: InterruptException:\nwhile loading In[21], in expression starting on line 1",
     "output_type": "error",
     "traceback": [
      "LoadError: InterruptException:\nwhile loading In[21], in expression starting on line 1",
      "",
      " in optimize! at /home/hofi/.julia/v0.4/NLopt/src/NLopt.jl:526",
      " in optimize at /home/hofi/.julia/v0.4/NLopt/src/NLopt.jl:532"
     ]
    }
   ],
   "source": [
    "(minf,minx,ret) = optimize(opt, rand(2s))"
   ]
  },
  {
   "cell_type": "code",
   "execution_count": 293,
   "metadata": {
    "collapsed": false
   },
   "outputs": [
    {
     "data": {
      "text/plain": [
       "differentiate (generic function with 1 method)"
      ]
     },
     "execution_count": 293,
     "metadata": {},
     "output_type": "execute_result"
    }
   ],
   "source": [
    "function differentiate(eq, var)\n",
    "    eq1=\"\"\n",
    "    terms = split(eq,['+','-'], keep=false)\n",
    "    signs = [m.match for m in collect(eachmatch(r\"[\\+-]\",eq))]\n",
    "    for t in terms\n",
    "        s = split(t,'*')        \n",
    "        c = s[1]\n",
    "        facs = Dict([ contains(f,\"^\") ? (split(f,\"^\")...) : (f, \"1\")   for f in s[2:end]])\n",
    "        if var in keys(facs)\n",
    "            e = parse(facs[var])\n",
    "            c = string(parse(c)*e)\n",
    "            if e==1\n",
    "                delete!(facs, var)\n",
    "            else    \n",
    "                facs[var] = string(e-1)\n",
    "            end\n",
    "            eq1 = string(eq1, \"+\", join(vcat(c,[e==\"1\" ? v : string(v,\"^\",e ) for (v,e) in facs]), '*'))\n",
    "        end       \n",
    "    end\n",
    "    if eq1==\"\"\n",
    "        eq1=\"0\"\n",
    "    end\n",
    "    eq1\n",
    "end"
   ]
  },
  {
   "cell_type": "code",
   "execution_count": 331,
   "metadata": {
    "collapsed": false
   },
   "outputs": [
    {
     "name": "stdout",
     "output_type": "stream",
     "text": [
      "  0.000238 seconds (1.54 k allocations: 91.813 KB)\n"
     ]
    },
    {
     "data": {
      "text/plain": [
       "5-element Array{AbstractString,1}:\n",
       " \"+2*b1*a2+2*b1*a3+2*b2*a3-1\"                 \n",
       " \"+1*a1+1*a2+1*a3-1\"                          \n",
       " \"+3*b1*a2^2+6*b1*a2*a3+3*b1*a3^2+3*b2*a3^2-1\"\n",
       " \"+3*b1^2*a2+3*b1^2*a3+6*b1*b2*a3+3*b2^2*a3-1\"\n",
       " \"+1*b1+1*b2+1*b3-1\"                          "
      ]
     },
     "execution_count": 331,
     "metadata": {},
     "output_type": "execute_result"
    }
   ],
   "source": [
    "p,s = 3,3\n",
    "@time begin\n",
    "    eqs = generate_equations(1,s, with_brackets=false)\n",
    "    for q=2:p\n",
    "       merge!(eqs,generate_equations(q,s,  with_brackets=false)) \n",
    "    end\n",
    "end    \n",
    "eqs=collect(values(eqs))"
   ]
  },
  {
   "cell_type": "code",
   "execution_count": 332,
   "metadata": {
    "collapsed": false
   },
   "outputs": [
    {
     "data": {
      "text/plain": [
       "6-element Array{ASCIIString,1}:\n",
       " \"a1\"\n",
       " \"a2\"\n",
       " \"a3\"\n",
       " \"b1\"\n",
       " \"b2\"\n",
       " \"b3\""
      ]
     },
     "execution_count": 332,
     "metadata": {},
     "output_type": "execute_result"
    }
   ],
   "source": [
    "vars = [\"a1\", \"a2\", \"a3\", \"b1\", \"b2\", \"b3\"]"
   ]
  },
  {
   "cell_type": "code",
   "execution_count": 333,
   "metadata": {
    "collapsed": false
   },
   "outputs": [
    {
     "data": {
      "text/plain": [
       "\"(+4*b1^3*a2+4*b1^3*a3+12*b1^2*b2*a3+12*b1*b2^2*a3+4*b2^3*a3-1)^2+(+4*b1*a2^3+12*b1*a2^2*a3+12*b1*a2*a3^2+4*b1*a3^3+4*b2*a3^3-1)^2+(+6*b1^2*a2^2+12*b1^2*a2*a3+6*b1^2*a3^2+12*b1*b2*a3^2+6*b2^2*a3^2-1)^2\""
      ]
     },
     "execution_count": 333,
     "metadata": {},
     "output_type": "execute_result"
    }
   ],
   "source": [
    "eqs_lem = collect(values(generate_equations(p+1,s, with_brackets=false)))\n",
    "lem_eq = join([string(\"(\",eq,\")^2\") for eq in eqs_lem], :+)"
   ]
  },
  {
   "cell_type": "code",
   "execution_count": 334,
   "metadata": {
    "collapsed": false
   },
   "outputs": [
    {
     "data": {
      "text/plain": [
       "11-element Array{ByteString,1}:\n",
       " \"+2*b1*a2+2*b1*a3+2*b2*a3-1;\"                                                                                                                                                                                                                                                                                                                                                                                                              \n",
       " \"+1*a1+1*a2+1*a3-1;\"                                                                                                                                                                                                                                                                                                                                                                                                                       \n",
       " \"+3*b1*a2^2+6*b1*a2*a3+3*b1*a3^2+3*b2*a3^2-1;\"                                                                                                                                                                                                                                                                                                                                                                                             \n",
       " \"+3*b1^2*a2+3*b1^2*a3+6*b1*b2*a3+3*b2^2*a3-1;\"                                                                                                                                                                                                                                                                                                                                                                                             \n",
       " \"+1*b1+1*b2+1*b3-1;\"                                                                                                                                                                                                                                                                                                                                                                                                                       \n",
       " \"2*(+4*b1^3*a2+4*b1^3*a3+12*b1^2*b2*a3+12*b1*b2^2*a3+4*b2^3*a3-1)*(0)+2*(+4*b1*a2^3+12*b1*a2^2*a3+12*b1*a2*a3^2+4*b1*a3^3+4*b2*a3^3-1)*(0)+2*(+6*b1^2*a2^2+12*b1^2*a2*a3+6*b1^2*a3^2+12*b1*b2*a3^2+6*b2^2*a3^2-1)*(0)+l1*(0)+l2*(+1)+l3*(0)+l4*(0)+l5*(0);\"                                                                                                                                                                                \n",
       " \"2*(+4*b1^3*a2+4*b1^3*a3+12*b1^2*b2*a3+12*b1*b2^2*a3+4*b2^3*a3-1)*(+4*b1^3)+2*(+4*b1*a2^3+12*b1*a2^2*a3+12*b1*a2*a3^2+4*b1*a3^3+4*b2*a3^3-1)*(+12*a2^2*b1+24*a3*a2*b1+12*a3^2*b1)+2*(+6*b1^2*a2^2+12*b1^2*a2*a3+6*b1^2*a3^2+12*b1*b2*a3^2+6*b2^2*a3^2-1)*(+12*a2*b1^2+12*a3*b1^2)+l1*(+2*b1)+l2*(+1)+l3*(+6*a2*b1+6*a3*b1)+l4*(+3*b1^2)+l5*(0);\"                                                                                           \n",
       " \"2*(+4*b1^3*a2+4*b1^3*a3+12*b1^2*b2*a3+12*b1*b2^2*a3+4*b2^3*a3-1)*(+4*b1^3+12*b2*b1^2+12*b2^2*b1+4*b2^3)+2*(+4*b1*a2^3+12*b1*a2^2*a3+12*b1*a2*a3^2+4*b1*a3^3+4*b2*a3^3-1)*(+12*a2^2*b1+24*a3*a2*b1+12*a3^2*b1+12*a3^2*b2)+2*(+6*b1^2*a2^2+12*b1^2*a2*a3+6*b1^2*a3^2+12*b1*b2*a3^2+6*b2^2*a3^2-1)*(+12*a2*b1^2+12*a3*b1^2+24*a3*b2*b1+12*a3*b2^2)+l1*(+2*b1+2*b2)+l2*(+1)+l3*(+6*a2*b1+6*a3*b1+6*a3*b2)+l4*(+3*b1^2+6*b2*b1+3*b2^2)+l5*(0);\"\n",
       " \"2*(+4*b1^3*a2+4*b1^3*a3+12*b1^2*b2*a3+12*b1*b2^2*a3+4*b2^3*a3-1)*(+12*a2*b1^2+12*a3*b1^2+24*a3*b2*b1+12*a3*b2^2)+2*(+4*b1*a2^3+12*b1*a2^2*a3+12*b1*a2*a3^2+4*b1*a3^3+4*b2*a3^3-1)*(+4*a2^3+12*a3*a2^2+12*a3^2*a2+4*a3^3)+2*(+6*b1^2*a2^2+12*b1^2*a2*a3+6*b1^2*a3^2+12*b1*b2*a3^2+6*b2^2*a3^2-1)*(+12*a2^2*b1+24*a3*a2*b1+12*a3^2*b1+12*a3^2*b2)+l1*(+2*a2+2*a3)+l2*(0)+l3*(+3*a2^2+6*a3*a2+3*a3^2)+l4*(+6*a2*b1+6*a3*b1+6*a3*b2)+l5*(+1);\"\n",
       " \"2*(+4*b1^3*a2+4*b1^3*a3+12*b1^2*b2*a3+12*b1*b2^2*a3+4*b2^3*a3-1)*(+12*a3*b1^2+24*a3*b2*b1+12*a3*b2^2)+2*(+4*b1*a2^3+12*b1*a2^2*a3+12*b1*a2*a3^2+4*b1*a3^3+4*b2*a3^3-1)*(+4*a3^3)+2*(+6*b1^2*a2^2+12*b1^2*a2*a3+6*b1^2*a3^2+12*b1*b2*a3^2+6*b2^2*a3^2-1)*(+12*a3^2*b1+12*a3^2*b2)+l1*(+2*a3)+l2*(0)+l3*(+3*a3^2)+l4*(+6*a3*b1+6*a3*b2)+l5*(+1);\"                                                                                           \n",
       " \"2*(+4*b1^3*a2+4*b1^3*a3+12*b1^2*b2*a3+12*b1*b2^2*a3+4*b2^3*a3-1)*(0)+2*(+4*b1*a2^3+12*b1*a2^2*a3+12*b1*a2*a3^2+4*b1*a3^3+4*b2*a3^3-1)*(0)+2*(+6*b1^2*a2^2+12*b1^2*a2*a3+6*b1^2*a3^2+12*b1*b2*a3^2+6*b2^2*a3^2-1)*(0)+l1*(0)+l2*(0)+l3*(0)+l4*(0)+l5*(+1);\"                                                                                                                                                                                "
      ]
     },
     "execution_count": 334,
     "metadata": {},
     "output_type": "execute_result"
    }
   ],
   "source": [
    "lagrange_eqs = vcat(eqs,\n",
    "[join(vcat([string(\"2*(\",eq,\")*(\",differentiate(eq,var),\")\") for eq in eqs_lem],\n",
    "    [string(\"l\", j, \"*(\", differentiate(eqs[j],var),\")\") for j=1:length(eqs)]),:+) for var in vars]\n",
    ")\n",
    "lagrange_eqs = [string(eq,\";\") for eq in lagrange_eqs]"
   ]
  },
  {
   "cell_type": "code",
   "execution_count": 335,
   "metadata": {
    "collapsed": false
   },
   "outputs": [
    {
     "data": {
      "text/plain": [
       "6-element Array{ASCIIString,1}:\n",
       " \"a1\"\n",
       " \"a2\"\n",
       " \"a3\"\n",
       " \"b1\"\n",
       " \"b2\"\n",
       " \"b3\""
      ]
     },
     "execution_count": 335,
     "metadata": {},
     "output_type": "execute_result"
    }
   ],
   "source": [
    "vars"
   ]
  },
  {
   "cell_type": "code",
   "execution_count": 336,
   "metadata": {
    "collapsed": false
   },
   "outputs": [],
   "source": [
    "using PyCall\n",
    "@pyimport phcpy\n",
    "@pyimport phcpy.solver as solver\n",
    "@pyimport phcpy.solutions as solutions"
   ]
  },
  {
   "cell_type": "code",
   "execution_count": 337,
   "metadata": {
    "collapsed": false
   },
   "outputs": [
    {
     "name": "stdout",
     "output_type": "stream",
     "text": [
      "\n",
      "ROOT COUNTS :\n",
      "\n",
      "total degree : 691488\n",
      "4-homogeneous Bezout number : 392\n",
      "  with partition : { b1 b2 }{ a2 a3 }{ a1 b3 }{ l1 l2 l3 l4 l5 }\n",
      "general linear-product Bezout number : 4186\n",
      "  based on the set structure :\n",
      "     { b1 b2 }{ a2 a3 }\n",
      "     { a2 a3 a1 }\n",
      "     { b1 b2 }{ a2 a3 }{ a2 a3 }\n",
      "     { b1 b2 }{ b1 b2 }{ a2 a3 }\n",
      "     { b1 b2 b3 }\n",
      "     { b1 b2 l1 l2 l3 l4 l5 }{ b1 a2 a3 }{ b1 a2 a3 b2 }{ a2 a3 b2 }\n",
      "     { b1 l2 l5 }{ b1 b2 l1 l3 }{ b1 a2 a3 l4 }{ b1 a2 a3 b2 }{ b1 a2 a3 }{ b1 a2 a3 b2 }{ a2 a3 b2 }\n",
      "     { b1 b2 l2 l5 }{ b1 b2 l1 l3 }{ b1 a2 a3 l4 }{ b1 a2 a3 b2 }{ b1 a2 a3 b2 }{ b1 a2 a3 b2 }{ a2 a3 b2 }\n",
      "     { b1 b2 l1 l2 l3 l5 }{ b1 a2 a3 }{ b1 a2 a3 b2 l4 }{ b1 a2 a3 b2 }{ b1 a2 a3 b2 }{ a2 a3 b2 }{ a2 a3 b2 }\n",
      "     { b1 b2 l1 l2 l3 l5 }{ b1 a2 a3 }{ b1 a3 b2 l4 }{ b1 a2 a3 b2 }{ b1 a3 b2 }{ a2 a3 b2 }{ a3 b2 }\n",
      "     { b1 b2 l1 l2 l3 l4 l5 }{ b1 a2 a3 }{ b1 a2 a3 b2 }{ a2 a3 b2 }\n",
      "mixed volume : 68\n",
      "stable mixed volume : 68\n",
      "  7.812857 seconds (129 allocations: 12.188 KB)\n"
     ]
    },
    {
     "data": {
      "text/plain": [
       "9-element Array{Any,1}:\n",
       " \"t :  1.00000000000000E+00   2.58714722893939E+02\\nm : 1\\nthe solution for t :\\n b1 :  6.54843862488956E-01  -1.93136042802593E-22\\n a2 :  7.82907848367289E-01   6.69722835689236E-22\\n a3 : -6.71975151492813E-02  -5.42143203016265E-22\\n b2 : -4.66110702199038E-01   2.94674484765691E-21\\n a1 :  2.84289666781992E-01  -1.27579612193539E-22\\n b3 :  8.11266839710083E-01  -2.75360879478269E-21\\n l1 :  9.88064647755892E-01   3.97779436387118E-21\\n l2 :  4.31308743454427E+00  -4.27889237343615E-01\\n l3 : -8.49072722555352E-01  -1.27944662496848E-21\\n l4 : -5.21701538705868E-01  -3.30956206339061E-23\\n l5 : -4.22190555205767E+00   4.27889237343615E-01\\n== err :  2.792E-14 = rco :  0.000E+00 = res :  8.506E-16 =\"\n",
       " \"t :  1.00000000000000E+00   1.68846428289058E+02\\nm : 1\\nthe solution for t :\\n b1 :  3.87747410753696E-01  -1.00071120693573E-01\\n a2 :  4.10612900985895E-01   2.06043441934941E-01\\n a3 :  3.87747410753697E-01  -1.00071120693576E-01\\n b2 :  4.10612900985895E-01   2.06043441934939E-01\\n a1 :  2.01639688260407E-01  -1.05972321241365E-01\\n b3 :  2.01639688260408E-01  -1.05972321241365E-01\\n l1 : -3.89841583753427E-01   1.82876741012286E-01\\n l2 : -1.81199064151258E-03  -2.69165778170330E-01\\n l3 :  5.47201585978057E-02   1.29912678814499E-01\\n l4 :  5.47201585978065E-02   1.29912678814501E-01\\n l5 :  2.57664371365492E-01  -1.80486783313660E-01\\n== err :  1.181E-14 = rco :  3.587E-34 = res :  3.636E-16 =\"\n",
       " \"t :  1.00000000000000E+00   1.29497284524104E+04\\nm : 1\\nthe solution for t :\\n b1 : -5.17250871773600E-01  -4.78930360392895E-17\\n a2 : -5.87320720622594E-02   7.12760023894271E-18\\n a3 :  6.31845211554006E-01   5.36055657581476E-19\\n b2 :  1.26050376969413E+00   4.86455546348863E-17\\n a1 :  4.26886860508253E-01  -7.66365589697652E-18\\n b3 :  2.56747102079468E-01  -7.52518596010866E-19\\n l1 :  7.92719178764348E-01  -1.30976325651605E-16\\n l2 :  2.50180791002625E-02  -2.71542319873213E+00\\n l3 : -2.08991212260014E-01   6.02245687414405E-17\\n l4 : -9.28208674438385E-01   2.76514514494905E-17\\n l5 : -5.06165460645555E-03   2.71542319873213E+00\\n== err :  8.963E-13 = rco :  5.391E-51 = res :  2.898E-15 =\"\n",
       " \"t :  1.00000000000000E+00   2.41565024853943E+02\\nm : 1\\nthe solution for t :\\n b1 :  7.14923009418344E-01  -3.26962565099537E-02\\n a2 :  6.80638842976763E-01   2.32005830876821E-02\\n a3 :  1.54593752083115E-03  -7.53590962053361E-03\\n b2 : -1.10653024241298E+00   1.78994373132707E+00\\n a1 :  3.17815219502405E-01  -1.56646734671485E-02\\n b3 :  1.39160723299463E+00  -1.75724747481712E+00\\n l1 :  1.80678029364584E+00  -5.46583026136941E-01\\n l2 :  3.33834229835375E+00  -2.10041261931248E+00\\n l3 : -1.20158540964280E+00   1.58285554355968E-01\\n l4 : -9.88394776032870E-01   9.89643199062921E-01\\n l5 : -3.38668630985884E+00   2.06282306396159E+00\\n== err :  2.484E-14 = rco :  0.000E+00 = res :  6.933E-16 =\"\n",
       " \"t :  1.00000000000000E+00   3.14240728488623E+02\\nm : 1\\nthe solution for t :\\n b1 :  7.14923009418344E-01   3.26962565099538E-02\\n a2 :  6.80638842976763E-01  -2.32005830876822E-02\\n a3 :  1.54593752083115E-03   7.53590962053364E-03\\n b2 : -1.10653024241298E+00  -1.78994373132707E+00\\n a1 :  3.17815219502405E-01   1.56646734671485E-02\\n b3 :  1.39160723299463E+00   1.75724747481712E+00\\n l1 :  1.80678029364585E+00   5.46583026136942E-01\\n l2 :  8.65686226186614E+00  -1.22196696480719E+00\\n l3 : -1.20158540964280E+00  -1.58285554355968E-01\\n l4 : -9.88394776032873E-01  -9.89643199062923E-01\\n l5 : -8.70520627337123E+00   1.25955652015808E+00\\n== err :  3.919E-14 = rco :  0.000E+00 = res :  6.481E-16 =\"\n",
       " \"t :  1.00000000000000E+00   4.63855984151291E+02\\nm : 1\\nthe solution for t :\\n b1 :  9.19661523017466E-01  -7.84289247899262E-24\\n a2 : -1.87991618799098E-01  -7.27237854501067E-24\\n a3 :  9.19661523017333E-01   7.81796266402620E-24\\n b2 : -1.87991618799221E-01   7.29073716855798E-24\\n a1 :  2.68330095781765E-01  -5.45300536635708E-25\\n b3 :  2.68330095781755E-01   5.51509913507773E-25\\n l1 : -4.21382594235796E+00   4.89733925775005E-14\\n l2 : -1.97031880430220E-01   5.36623229237202E+00\\n l3 :  8.18025689545505E-01  -8.99881372158793E-15\\n l4 :  8.18025689545521E-01  -8.99881372482233E-15\\n l5 :  3.06818648348804E+00  -5.36623229237205E+00\\n== err :  2.292E-12 = rco :  1.273E-34 = res :  1.046E-15 =\"\n",
       " \"t :  1.00000000000000E+00   5.05657025271204E+03\\nm : 1\\nthe solution for t :\\n b1 : -1.69515634452479E+00  -1.57400383616239E-26\\n a2 :  7.00099150160702E-01   3.11213272888027E-26\\n a3 : -1.69515634452479E+00  -3.84818402886731E-26\\n b2 :  7.00099150160702E-01  -8.95923998313616E-27\\n a1 :  1.99505719436409E+00  -5.89659063099905E-27\\n b3 :  1.99505719436409E+00   2.79773197835359E-26\\n l1 : -2.56243340501023E+02   1.22764157378761E-22\\n l2 :  8.74465453154769E+02   2.92160244437774E+02\\n l3 : -1.75974363289062E+02   9.75493918387831E-25\\n l4 : -1.75974363289062E+02   4.59990893723538E-24\\n l5 : -2.01628779454856E+02  -2.92160244437774E+02\\n== err :  3.209E-12 = rco :  0.000E+00 = res :  3.542E-14 =\"\n",
       " \"t :  1.00000000000000E+00   6.62914639969259E+01\\nm : 1\\nthe solution for t :\\n b1 : -6.71975151492794E-02   4.59882313246261E-22\\n a2 : -4.66110702199050E-01  -2.49962746394452E-21\\n a3 :  6.54843862488956E-01   1.63831072846190E-22\\n b2 :  7.82907848367287E-01  -5.68104064418485E-22\\n a1 :  8.11266839710093E-01   2.33579639175668E-21\\n b3 :  2.84289666781992E-01   1.08221784214562E-22\\n l1 :  9.88064647755902E-01  -3.37423951296974E-21\\n l2 :  2.35709971826723E+00  -1.97731928185791E+00\\n l3 : -5.21701538705880E-01   2.80780832395176E-23\\n l4 : -8.49072722555351E-01   1.08531579637392E-21\\n l5 : -2.26591783578063E+00   1.97731928185791E+00\\n== err :  1.094E-14 = rco :  0.000E+00 = res :  4.600E-16 =\"\n",
       " \"t :  1.00000000000000E+00   5.68059321506972E+04\\nm : 1\\nthe solution for t :\\n b1 : -2.82147317485189E-01  -2.80717980986253E-20\\n a2 :  8.47633642591402E-01  -1.53217249937933E-20\\n a3 :  2.05507709029483E+00   2.02637356030064E-19\\n b2 :  6.41821201232937E-01   2.08161650724679E-21\\n a1 : -1.90271073288623E+00  -1.87315664853387E-19\\n b3 :  6.40326116252252E-01   2.59901340405288E-20\\n l1 :  4.25722729630217E+02   1.16630903115197E-17\\n l2 : -1.79619620700064E+01  -1.07042453905869E+03\\n l3 : -1.35205781560088E+01   1.93752714595267E-17\\n l4 : -2.57558518376131E+02  -4.07280572725149E-17\\n l5 : -1.31224648865584E+02   1.07042453905869E+03\\n== err :  1.010E-11 = rco :  0.000E+00 = res :  1.754E-14 =\""
      ]
     },
     "execution_count": 337,
     "metadata": {},
     "output_type": "execute_result"
    }
   ],
   "source": [
    "@time sols = solver.solve(lagrange_eqs, tasks=4)"
   ]
  },
  {
   "cell_type": "code",
   "execution_count": 338,
   "metadata": {
    "collapsed": false
   },
   "outputs": [
    {
     "name": "stdout",
     "output_type": "stream",
     "text": [
      "  0.004300 seconds (363 allocations: 23.255 KB)\n"
     ]
    },
    {
     "data": {
      "text/plain": [
       "(anonymous function)"
      ]
     },
     "execution_count": 338,
     "metadata": {},
     "output_type": "execute_result"
    }
   ],
   "source": [
    "eqs_lem = collect(values(generate_equations(p+1,s)))\n",
    "lem_eq = join([string(\"(\",eq,\")^2\") for eq in eqs_lem], :+)\n",
    "@time lem = eval(parse(string( \"(a,b)->sqrt( begin \", lem_eq, \" end )\")))"
   ]
  },
  {
   "cell_type": "code",
   "execution_count": 339,
   "metadata": {
    "collapsed": false
   },
   "outputs": [
    {
     "name": "stdout",
     "output_type": "stream",
     "text": [
      "i=1 lem=0.3330941503269302 R MIN\n",
      "i=2 lem=0.15420074248480004 - 0.20642265607595806im\n",
      "i=3 lem=0.2504481506653464 R MIN\n",
      "i=4 lem=0.38366803502378877 + 0.00016890347685912367im\n",
      "i=5 lem=0.38366803502378855 - 0.00016890347685963016im\n",
      "i=6 lem=0.24787675359346228 R MIN\n",
      "i=7 lem=19.893256498163133 R\n",
      "i=8 lem=0.33309415032693107 R\n",
      "i=9 lem=7.667496523556165 R\n"
     ]
    }
   ],
   "source": [
    "vars = [\"a1\", \"a2\", \"a3\",\"b1\", \"b2\", \"b3\"]\n",
    "lem_min_real = 1e10\n",
    "idx_min_real = -1\n",
    "lem_min_real_1 = 1e10\n",
    "idx_min_real_1 = -1\n",
    "idx = 0\n",
    "a=[0]\n",
    "b=[0]\n",
    "for sol in sols\n",
    "    soldic = solutions.strsol2dict(sol)\n",
    "    coeffs = Complex128[soldic[var] for var in vars]\n",
    "    idx += 1\n",
    "    i = maximum(abs(imag(coeffs)))\n",
    "    if i<1e-12\n",
    "        coeffs = Float64[real(x) for x in coeffs]\n",
    "    end    \n",
    "    a = coeffs[1:3]\n",
    "    b = coeffs[4:6]\n",
    "    n = lem(a,b)\n",
    "    print(\"i=\", idx, \" lem=\", n)\n",
    "    if i<1e-12 \n",
    "        print(\" R\")\n",
    "        if n< lem_min_real\n",
    "            lem_min_real = n\n",
    "            idx_min_real = idx\n",
    "            print(\" MIN\")\n",
    "        end\n",
    "    end\n",
    "    println()\n",
    "end    "
   ]
  },
  {
   "cell_type": "code",
   "execution_count": 340,
   "metadata": {
    "collapsed": false
   },
   "outputs": [
    {
     "name": "stdout",
     "output_type": "stream",
     "text": [
      "MIN_REAL (idx=6, lem=0.24787675359346228):\n",
      "[0.268330095781765,-0.187991618799098,0.919661523017333]\n",
      "[0.919661523017466,-0.187991618799221,0.268330095781755]\n"
     ]
    }
   ],
   "source": [
    "println(\"MIN_REAL (idx=\", idx_min_real,\", lem=\", lem_min_real, \"):\")  \n",
    "soldic = solutions.strsol2dict(sols[idx_min_real])\n",
    "coeffs = Float64[real(soldic[var]) for var in vars]\n",
    "a = coeffs[1:3]\n",
    "b = coeffs[4:6]\n",
    "println(a) \n",
    "println(b)"
   ]
  },
  {
   "cell_type": "code",
   "execution_count": null,
   "metadata": {
    "collapsed": true
   },
   "outputs": [],
   "source": []
  }
 ],
 "metadata": {
  "kernelspec": {
   "display_name": "Julia 0.4.5",
   "language": "julia",
   "name": "julia-0.4"
  },
  "language_info": {
   "file_extension": ".jl",
   "mimetype": "application/julia",
   "name": "julia",
   "version": "0.4.5"
  }
 },
 "nbformat": 4,
 "nbformat_minor": 0
}
